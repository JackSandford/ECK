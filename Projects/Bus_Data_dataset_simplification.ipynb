{
  "nbformat": 4,
  "nbformat_minor": 0,
  "metadata": {
    "colab": {
      "provenance": [],
      "include_colab_link": true
    },
    "kernelspec": {
      "name": "python3",
      "display_name": "Python 3"
    },
    "language_info": {
      "name": "python"
    }
  },
  "cells": [
    {
      "cell_type": "markdown",
      "metadata": {
        "id": "view-in-github",
        "colab_type": "text"
      },
      "source": [
        "<a href=\"https://colab.research.google.com/github/JackSandford/ECK/blob/main/Projects/Bus_Data_dataset_simplification.ipynb\" target=\"_parent\"><img src=\"https://colab.research.google.com/assets/colab-badge.svg\" alt=\"Open In Colab\"/></a>"
      ]
    },
    {
      "cell_type": "markdown",
      "source": [
        "# Creating a simplified dataset\n",
        "----\n"
      ],
      "metadata": {
        "id": "IEP-Rt7W8Ckk"
      }
    },
    {
      "cell_type": "markdown",
      "source": [
        "### Introduction\n",
        "---\n",
        "As the data refreshes every 10 seconds, in order to get a complete overview of bus emissions in the AQMA, it is necessary to pull the data every few minutes. The result however is many many JSON files. \n",
        "\n",
        "In order to analyse the data, we need to simplify the data by creating a large  dataset which only contains the information we really need. \n",
        "\n",
        "To do this:\n",
        "* find all the individual filenames\n",
        "* read all the files into dataframes\n",
        "* create a list of dataframes\n",
        "* concatenate the dataframes to create 1 big dataframe\n",
        "* remove unnecessary columns \n",
        "* remove duplicate rows\n",
        "* remove all rows which are not Euro III buses \n",
        "* remove all rows which are not in the AQMA Rainham boundary (listed in the presentation)\n"
      ],
      "metadata": {
        "id": "urv17hCb8KEu"
      }
    },
    {
      "cell_type": "markdown",
      "source": [
        "### Finding the filenames\n",
        "---\n",
        "\n",
        "**Important do not skip**  \n",
        "First you will need to add the data to your drive:   \n",
        "Click https://drive.google.com/drive/folders/1XmGyJqykj44wt7Eieb6vEoWeY6kH0cwN?usp=sharing\n",
        "\n",
        "1. add a shortcut to the folder to your drive (click the little arrow next to the folder name OneHourOfData\n",
        "2. When you go to My Drive, there should be a folder called **OneHourOfData**\n",
        "\n",
        "### Run the following code \n",
        "\n",
        "Due to all the data files having long names, we don't know the exact filenames.\n",
        "Run the code cell below to generate a list of the filenames in the data folder.\n",
        " \n",
        "It will ask for permission to access your Google Drive, click accept"
      ],
      "metadata": {
        "id": "ppB5NEwmhJnh"
      }
    },
    {
      "cell_type": "code",
      "source": [
        "import os\n",
        "import pandas as pd\n",
        "import json \n",
        "from google.colab import drive\n",
        "\n",
        "def mount_drive():\n",
        "  drive.mount('/content/drive', force_remount=True)\n",
        "  project_dir = \"/content/drive/MyDrive/OneHourOfData\"\n",
        "  return project_dir\n",
        "\n",
        "def unmount_drive():\n",
        "  drive.flush_and_unmount()\n",
        "  print('Drive Unmounted')\n",
        "\n",
        "def get_file_names(project_dir):\n",
        "  path = os.path.join(os.getcwd(),project_dir)\n",
        "  filenames = [os.path.join(path,i) for i in os.listdir(path) if os.path.isfile(os.path.join(path,i))]\n",
        "  return filenames\n",
        "\n",
        "\n",
        "project_dir = mount_drive()\n",
        "\n",
        "filenames = get_file_names(project_dir)\n",
        "filenames = filenames[:6]\n",
        "\n"
      ],
      "metadata": {
        "colab": {
          "base_uri": "https://localhost:8080/"
        },
        "id": "o3t9KX-ChaAe",
        "outputId": "f05deb1d-da00-4810-a2d7-2aee3e91c08d"
      },
      "execution_count": 1,
      "outputs": [
        {
          "output_type": "stream",
          "name": "stdout",
          "text": [
            "Mounted at /content/drive\n"
          ]
        }
      ]
    },
    {
      "cell_type": "markdown",
      "source": [
        "### Before you leave the worksheet\n",
        "---\n",
        "**Run the following code**\n",
        "\n",
        "When you finish the exercises or are leaving the worksheet to come back to later make sure to run the following code to unmount your google drive \n"
      ],
      "metadata": {
        "id": "Q7WuJYu1djGL"
      }
    },
    {
      "cell_type": "code",
      "source": [
        "unmount_drive()"
      ],
      "metadata": {
        "id": "C746Ovt5diZq"
      },
      "execution_count": null,
      "outputs": []
    },
    {
      "cell_type": "markdown",
      "source": [
        "### Task 1 \n",
        "---\n",
        "\n",
        "Create a dataframe from the first json file in the `filenames` list. \n",
        "\n",
        "*(hint: use pd.read_json())*"
      ],
      "metadata": {
        "id": "PIynWFZQhGA8"
      }
    },
    {
      "cell_type": "code",
      "execution_count": 6,
      "metadata": {
        "id": "G--ZbH1B77dl",
        "outputId": "d9a6e985-4058-4526-9b46-134bd54d5fe6",
        "colab": {
          "base_uri": "https://localhost:8080/",
          "height": 424
        }
      },
      "outputs": [
        {
          "output_type": "display_data",
          "data": {
            "text/plain": [
              "                RecordedAtTime                        ItemIdentifier  \\\n",
              "0    2022-09-07T07:07:19+00:00  467dce63-7573-45d9-8713-7337ed464c80   \n",
              "1    2022-09-07T07:07:24+00:00  14f33ea4-9c31-4d9a-bfbd-daf3577a3e0d   \n",
              "2    2022-09-07T07:07:07+00:00  67470c05-e1c5-4178-89cc-075f0036c562   \n",
              "3    2022-09-07T07:07:21+00:00  40333a3d-7fc0-4f01-95fb-370b9832197b   \n",
              "4    2022-09-07T07:07:24+00:00  2ed7b0ad-8703-4e98-b52d-7e7a81e14ee1   \n",
              "..                         ...                                   ...   \n",
              "127  2022-09-07T07:07:25+00:00  f7b4f1d7-5e64-4f33-964a-a869c0484a73   \n",
              "128  2022-09-07T07:07:10+00:00  097ce015-bdc4-400c-a187-ca8ceecb81de   \n",
              "129  2022-09-07T07:07:02+00:00  b8510fe3-2dda-429d-8491-70bd8befbdf3   \n",
              "130  2022-09-07T06:59:46+00:00  2c1e5b91-affd-48da-9529-607f15e037f6   \n",
              "131  2022-09-07T07:07:11+00:00  70e28b94-2482-4a39-ae0a-d560f9f8b74d   \n",
              "\n",
              "                 ValidUntilTime  \\\n",
              "0    2022-09-07T07:12:41.884566   \n",
              "1    2022-09-07T07:12:41.884913   \n",
              "2    2022-09-07T07:12:41.885080   \n",
              "3    2022-09-07T07:12:41.885228   \n",
              "4    2022-09-07T07:12:41.885371   \n",
              "..                          ...   \n",
              "127  2022-09-07T07:12:41.911914   \n",
              "128  2022-09-07T07:12:41.912053   \n",
              "129  2022-09-07T07:12:41.912193   \n",
              "130  2022-09-07T07:12:41.912331   \n",
              "131  2022-09-07T07:12:41.912466   \n",
              "\n",
              "                               MonitoredVehicleJourney  \\\n",
              "0    {'LineRef': '7', 'DirectionRef': 'inbound', 'F...   \n",
              "1    {'LineRef': '1', 'DirectionRef': 'outbound', '...   \n",
              "2    {'LineRef': '132', 'DirectionRef': 'outbound',...   \n",
              "3    {'LineRef': '190', 'DirectionRef': 'inbound', ...   \n",
              "4    {'LineRef': '101', 'DirectionRef': 'outbound',...   \n",
              "..                                                 ...   \n",
              "127  {'LineRef': '166', 'DirectionRef': 'inbound', ...   \n",
              "128  {'LineRef': '140', 'DirectionRef': 'outbound',...   \n",
              "129  {'LineRef': '155', 'DirectionRef': 'inbound', ...   \n",
              "130  {'LineRef': '692', 'DirectionRef': 'inbound', ...   \n",
              "131  {'LineRef': '653', 'DirectionRef': 'outbound',...   \n",
              "\n",
              "                                            Extensions  \n",
              "0    {'VehicleJourney': {'Operational': {'TicketMac...  \n",
              "1    {'VehicleJourney': {'Operational': {'TicketMac...  \n",
              "2    {'VehicleJourney': {'Operational': {'TicketMac...  \n",
              "3    {'VehicleJourney': {'Operational': {'TicketMac...  \n",
              "4    {'VehicleJourney': {'Operational': {'TicketMac...  \n",
              "..                                                 ...  \n",
              "127  {'VehicleJourney': {'Operational': {'TicketMac...  \n",
              "128  {'VehicleJourney': {'Operational': {'TicketMac...  \n",
              "129  {'VehicleJourney': {'Operational': {'TicketMac...  \n",
              "130  {'VehicleJourney': {'Operational': {'TicketMac...  \n",
              "131  {'VehicleJourney': {'Operational': {'TicketMac...  \n",
              "\n",
              "[132 rows x 5 columns]"
            ],
            "text/html": [
              "\n",
              "  <div id=\"df-58fb643d-3c80-4fd9-850e-d417d5ca5aed\">\n",
              "    <div class=\"colab-df-container\">\n",
              "      <div>\n",
              "<style scoped>\n",
              "    .dataframe tbody tr th:only-of-type {\n",
              "        vertical-align: middle;\n",
              "    }\n",
              "\n",
              "    .dataframe tbody tr th {\n",
              "        vertical-align: top;\n",
              "    }\n",
              "\n",
              "    .dataframe thead th {\n",
              "        text-align: right;\n",
              "    }\n",
              "</style>\n",
              "<table border=\"1\" class=\"dataframe\">\n",
              "  <thead>\n",
              "    <tr style=\"text-align: right;\">\n",
              "      <th></th>\n",
              "      <th>RecordedAtTime</th>\n",
              "      <th>ItemIdentifier</th>\n",
              "      <th>ValidUntilTime</th>\n",
              "      <th>MonitoredVehicleJourney</th>\n",
              "      <th>Extensions</th>\n",
              "    </tr>\n",
              "  </thead>\n",
              "  <tbody>\n",
              "    <tr>\n",
              "      <th>0</th>\n",
              "      <td>2022-09-07T07:07:19+00:00</td>\n",
              "      <td>467dce63-7573-45d9-8713-7337ed464c80</td>\n",
              "      <td>2022-09-07T07:12:41.884566</td>\n",
              "      <td>{'LineRef': '7', 'DirectionRef': 'inbound', 'F...</td>\n",
              "      <td>{'VehicleJourney': {'Operational': {'TicketMac...</td>\n",
              "    </tr>\n",
              "    <tr>\n",
              "      <th>1</th>\n",
              "      <td>2022-09-07T07:07:24+00:00</td>\n",
              "      <td>14f33ea4-9c31-4d9a-bfbd-daf3577a3e0d</td>\n",
              "      <td>2022-09-07T07:12:41.884913</td>\n",
              "      <td>{'LineRef': '1', 'DirectionRef': 'outbound', '...</td>\n",
              "      <td>{'VehicleJourney': {'Operational': {'TicketMac...</td>\n",
              "    </tr>\n",
              "    <tr>\n",
              "      <th>2</th>\n",
              "      <td>2022-09-07T07:07:07+00:00</td>\n",
              "      <td>67470c05-e1c5-4178-89cc-075f0036c562</td>\n",
              "      <td>2022-09-07T07:12:41.885080</td>\n",
              "      <td>{'LineRef': '132', 'DirectionRef': 'outbound',...</td>\n",
              "      <td>{'VehicleJourney': {'Operational': {'TicketMac...</td>\n",
              "    </tr>\n",
              "    <tr>\n",
              "      <th>3</th>\n",
              "      <td>2022-09-07T07:07:21+00:00</td>\n",
              "      <td>40333a3d-7fc0-4f01-95fb-370b9832197b</td>\n",
              "      <td>2022-09-07T07:12:41.885228</td>\n",
              "      <td>{'LineRef': '190', 'DirectionRef': 'inbound', ...</td>\n",
              "      <td>{'VehicleJourney': {'Operational': {'TicketMac...</td>\n",
              "    </tr>\n",
              "    <tr>\n",
              "      <th>4</th>\n",
              "      <td>2022-09-07T07:07:24+00:00</td>\n",
              "      <td>2ed7b0ad-8703-4e98-b52d-7e7a81e14ee1</td>\n",
              "      <td>2022-09-07T07:12:41.885371</td>\n",
              "      <td>{'LineRef': '101', 'DirectionRef': 'outbound',...</td>\n",
              "      <td>{'VehicleJourney': {'Operational': {'TicketMac...</td>\n",
              "    </tr>\n",
              "    <tr>\n",
              "      <th>...</th>\n",
              "      <td>...</td>\n",
              "      <td>...</td>\n",
              "      <td>...</td>\n",
              "      <td>...</td>\n",
              "      <td>...</td>\n",
              "    </tr>\n",
              "    <tr>\n",
              "      <th>127</th>\n",
              "      <td>2022-09-07T07:07:25+00:00</td>\n",
              "      <td>f7b4f1d7-5e64-4f33-964a-a869c0484a73</td>\n",
              "      <td>2022-09-07T07:12:41.911914</td>\n",
              "      <td>{'LineRef': '166', 'DirectionRef': 'inbound', ...</td>\n",
              "      <td>{'VehicleJourney': {'Operational': {'TicketMac...</td>\n",
              "    </tr>\n",
              "    <tr>\n",
              "      <th>128</th>\n",
              "      <td>2022-09-07T07:07:10+00:00</td>\n",
              "      <td>097ce015-bdc4-400c-a187-ca8ceecb81de</td>\n",
              "      <td>2022-09-07T07:12:41.912053</td>\n",
              "      <td>{'LineRef': '140', 'DirectionRef': 'outbound',...</td>\n",
              "      <td>{'VehicleJourney': {'Operational': {'TicketMac...</td>\n",
              "    </tr>\n",
              "    <tr>\n",
              "      <th>129</th>\n",
              "      <td>2022-09-07T07:07:02+00:00</td>\n",
              "      <td>b8510fe3-2dda-429d-8491-70bd8befbdf3</td>\n",
              "      <td>2022-09-07T07:12:41.912193</td>\n",
              "      <td>{'LineRef': '155', 'DirectionRef': 'inbound', ...</td>\n",
              "      <td>{'VehicleJourney': {'Operational': {'TicketMac...</td>\n",
              "    </tr>\n",
              "    <tr>\n",
              "      <th>130</th>\n",
              "      <td>2022-09-07T06:59:46+00:00</td>\n",
              "      <td>2c1e5b91-affd-48da-9529-607f15e037f6</td>\n",
              "      <td>2022-09-07T07:12:41.912331</td>\n",
              "      <td>{'LineRef': '692', 'DirectionRef': 'inbound', ...</td>\n",
              "      <td>{'VehicleJourney': {'Operational': {'TicketMac...</td>\n",
              "    </tr>\n",
              "    <tr>\n",
              "      <th>131</th>\n",
              "      <td>2022-09-07T07:07:11+00:00</td>\n",
              "      <td>70e28b94-2482-4a39-ae0a-d560f9f8b74d</td>\n",
              "      <td>2022-09-07T07:12:41.912466</td>\n",
              "      <td>{'LineRef': '653', 'DirectionRef': 'outbound',...</td>\n",
              "      <td>{'VehicleJourney': {'Operational': {'TicketMac...</td>\n",
              "    </tr>\n",
              "  </tbody>\n",
              "</table>\n",
              "<p>132 rows × 5 columns</p>\n",
              "</div>\n",
              "      <button class=\"colab-df-convert\" onclick=\"convertToInteractive('df-58fb643d-3c80-4fd9-850e-d417d5ca5aed')\"\n",
              "              title=\"Convert this dataframe to an interactive table.\"\n",
              "              style=\"display:none;\">\n",
              "        \n",
              "  <svg xmlns=\"http://www.w3.org/2000/svg\" height=\"24px\"viewBox=\"0 0 24 24\"\n",
              "       width=\"24px\">\n",
              "    <path d=\"M0 0h24v24H0V0z\" fill=\"none\"/>\n",
              "    <path d=\"M18.56 5.44l.94 2.06.94-2.06 2.06-.94-2.06-.94-.94-2.06-.94 2.06-2.06.94zm-11 1L8.5 8.5l.94-2.06 2.06-.94-2.06-.94L8.5 2.5l-.94 2.06-2.06.94zm10 10l.94 2.06.94-2.06 2.06-.94-2.06-.94-.94-2.06-.94 2.06-2.06.94z\"/><path d=\"M17.41 7.96l-1.37-1.37c-.4-.4-.92-.59-1.43-.59-.52 0-1.04.2-1.43.59L10.3 9.45l-7.72 7.72c-.78.78-.78 2.05 0 2.83L4 21.41c.39.39.9.59 1.41.59.51 0 1.02-.2 1.41-.59l7.78-7.78 2.81-2.81c.8-.78.8-2.07 0-2.86zM5.41 20L4 18.59l7.72-7.72 1.47 1.35L5.41 20z\"/>\n",
              "  </svg>\n",
              "      </button>\n",
              "      \n",
              "  <style>\n",
              "    .colab-df-container {\n",
              "      display:flex;\n",
              "      flex-wrap:wrap;\n",
              "      gap: 12px;\n",
              "    }\n",
              "\n",
              "    .colab-df-convert {\n",
              "      background-color: #E8F0FE;\n",
              "      border: none;\n",
              "      border-radius: 50%;\n",
              "      cursor: pointer;\n",
              "      display: none;\n",
              "      fill: #1967D2;\n",
              "      height: 32px;\n",
              "      padding: 0 0 0 0;\n",
              "      width: 32px;\n",
              "    }\n",
              "\n",
              "    .colab-df-convert:hover {\n",
              "      background-color: #E2EBFA;\n",
              "      box-shadow: 0px 1px 2px rgba(60, 64, 67, 0.3), 0px 1px 3px 1px rgba(60, 64, 67, 0.15);\n",
              "      fill: #174EA6;\n",
              "    }\n",
              "\n",
              "    [theme=dark] .colab-df-convert {\n",
              "      background-color: #3B4455;\n",
              "      fill: #D2E3FC;\n",
              "    }\n",
              "\n",
              "    [theme=dark] .colab-df-convert:hover {\n",
              "      background-color: #434B5C;\n",
              "      box-shadow: 0px 1px 3px 1px rgba(0, 0, 0, 0.15);\n",
              "      filter: drop-shadow(0px 1px 2px rgba(0, 0, 0, 0.3));\n",
              "      fill: #FFFFFF;\n",
              "    }\n",
              "  </style>\n",
              "\n",
              "      <script>\n",
              "        const buttonEl =\n",
              "          document.querySelector('#df-58fb643d-3c80-4fd9-850e-d417d5ca5aed button.colab-df-convert');\n",
              "        buttonEl.style.display =\n",
              "          google.colab.kernel.accessAllowed ? 'block' : 'none';\n",
              "\n",
              "        async function convertToInteractive(key) {\n",
              "          const element = document.querySelector('#df-58fb643d-3c80-4fd9-850e-d417d5ca5aed');\n",
              "          const dataTable =\n",
              "            await google.colab.kernel.invokeFunction('convertToInteractive',\n",
              "                                                     [key], {});\n",
              "          if (!dataTable) return;\n",
              "\n",
              "          const docLinkHtml = 'Like what you see? Visit the ' +\n",
              "            '<a target=\"_blank\" href=https://colab.research.google.com/notebooks/data_table.ipynb>data table notebook</a>'\n",
              "            + ' to learn more about interactive tables.';\n",
              "          element.innerHTML = '';\n",
              "          dataTable['output_type'] = 'display_data';\n",
              "          await google.colab.output.renderOutput(dataTable, element);\n",
              "          const docLink = document.createElement('div');\n",
              "          docLink.innerHTML = docLinkHtml;\n",
              "          element.appendChild(docLink);\n",
              "        }\n",
              "      </script>\n",
              "    </div>\n",
              "  </div>\n",
              "  "
            ]
          },
          "metadata": {}
        }
      ],
      "source": [
        "df1 = pd.read_json('/content/drive/MyDrive/OneHourOfData/busdata_22-09-07_08-07-48.json')\n",
        "display(df1)"
      ]
    },
    {
      "cell_type": "markdown",
      "source": [
        "### Task 2\n",
        "---\n",
        "Create a list of dataframes called `df_list` from all the filenames in the `filenames` list\n",
        "\n",
        "*hint: you will need to use a for loop*"
      ],
      "metadata": {
        "id": "0pieG4mRydAz"
      }
    },
    {
      "cell_type": "code",
      "source": [
        "df_list = []\n",
        "for file in filenames:\n",
        "  df_list.append(file)\n",
        "display(df_list)"
      ],
      "metadata": {
        "id": "ldB8lDjvyukZ",
        "outputId": "b2fbf227-8157-475b-eb4b-226b55b79e7a",
        "colab": {
          "base_uri": "https://localhost:8080/",
          "height": 126
        }
      },
      "execution_count": 10,
      "outputs": [
        {
          "output_type": "display_data",
          "data": {
            "text/plain": [
              "['/content/drive/MyDrive/OneHourOfData/busdata_22-09-07_08-07-48.json',\n",
              " '/content/drive/MyDrive/OneHourOfData/busdata_22-09-07_08-12-42.json',\n",
              " '/content/drive/MyDrive/OneHourOfData/busdata_22-09-07_08-17-43.json',\n",
              " '/content/drive/MyDrive/OneHourOfData/busdata_22-09-07_08-22-43.json',\n",
              " '/content/drive/MyDrive/OneHourOfData/busdata_22-09-07_08-27-44.json',\n",
              " '/content/drive/MyDrive/OneHourOfData/busdata_22-09-07_08-32-46.json']"
            ]
          },
          "metadata": {}
        }
      ]
    },
    {
      "cell_type": "markdown",
      "source": [
        "### Task 3 \n",
        "---\n",
        "\n",
        "Create one big dataframe, by appending all the dataframes from task 2 together\n",
        "\n",
        "*hint: you will need to create an empty dataframe and use a for loop*"
      ],
      "metadata": {
        "id": "QF7OPv-NyvAj"
      }
    },
    {
      "cell_type": "code",
      "source": [
        "bdf = pd.DataFrame()\n",
        "for df in df_list:\n",
        "  odf = pd.read_json(df)\n",
        "  bdf = pd.concat([bdf, odf])\n",
        "display(bdf)"
      ],
      "metadata": {
        "id": "6GLmuCHbzJr8",
        "outputId": "d615772b-b574-4cd4-dedb-ab2f27f521bf",
        "colab": {
          "base_uri": "https://localhost:8080/",
          "height": 424
        }
      },
      "execution_count": 18,
      "outputs": [
        {
          "output_type": "display_data",
          "data": {
            "text/plain": [
              "                RecordedAtTime                        ItemIdentifier  \\\n",
              "0    2022-09-07T07:07:19+00:00  467dce63-7573-45d9-8713-7337ed464c80   \n",
              "1    2022-09-07T07:07:24+00:00  14f33ea4-9c31-4d9a-bfbd-daf3577a3e0d   \n",
              "2    2022-09-07T07:07:07+00:00  67470c05-e1c5-4178-89cc-075f0036c562   \n",
              "3    2022-09-07T07:07:21+00:00  40333a3d-7fc0-4f01-95fb-370b9832197b   \n",
              "4    2022-09-07T07:07:24+00:00  2ed7b0ad-8703-4e98-b52d-7e7a81e14ee1   \n",
              "..                         ...                                   ...   \n",
              "134  2022-09-07T07:30:00+00:00  17669475-a77a-435a-9e98-8f63db2c348b   \n",
              "135  2022-09-07T07:32:11+00:00  b990bd12-9813-4194-8b23-0c7b4bbd9ee9   \n",
              "136  2022-09-07T07:32:37+00:00  e827e916-76a2-48a1-8d6d-1ff201c9e14e   \n",
              "137  2022-09-07T06:59:46+00:00  d6c5aac3-7ec0-433a-816e-ea19d0e6a7b3   \n",
              "138  2022-09-07T07:32:24+00:00  a18547a1-b634-432d-aba3-24906ae51b14   \n",
              "\n",
              "                 ValidUntilTime  \\\n",
              "0    2022-09-07T07:12:41.884566   \n",
              "1    2022-09-07T07:12:41.884913   \n",
              "2    2022-09-07T07:12:41.885080   \n",
              "3    2022-09-07T07:12:41.885228   \n",
              "4    2022-09-07T07:12:41.885371   \n",
              "..                          ...   \n",
              "134  2022-09-07T07:37:45.894430   \n",
              "135  2022-09-07T07:37:45.894591   \n",
              "136  2022-09-07T07:37:45.894751   \n",
              "137  2022-09-07T07:37:45.894911   \n",
              "138  2022-09-07T07:37:45.895069   \n",
              "\n",
              "                               MonitoredVehicleJourney  \\\n",
              "0    {'LineRef': '7', 'DirectionRef': 'inbound', 'F...   \n",
              "1    {'LineRef': '1', 'DirectionRef': 'outbound', '...   \n",
              "2    {'LineRef': '132', 'DirectionRef': 'outbound',...   \n",
              "3    {'LineRef': '190', 'DirectionRef': 'inbound', ...   \n",
              "4    {'LineRef': '101', 'DirectionRef': 'outbound',...   \n",
              "..                                                 ...   \n",
              "134  {'LineRef': '166', 'DirectionRef': 'outbound',...   \n",
              "135  {'LineRef': '155', 'DirectionRef': 'inbound', ...   \n",
              "136  {'LineRef': '182', 'DirectionRef': 'outbound',...   \n",
              "137  {'LineRef': '692', 'DirectionRef': 'inbound', ...   \n",
              "138  {'LineRef': '647', 'DirectionRef': 'outbound',...   \n",
              "\n",
              "                                            Extensions  \n",
              "0    {'VehicleJourney': {'Operational': {'TicketMac...  \n",
              "1    {'VehicleJourney': {'Operational': {'TicketMac...  \n",
              "2    {'VehicleJourney': {'Operational': {'TicketMac...  \n",
              "3    {'VehicleJourney': {'Operational': {'TicketMac...  \n",
              "4    {'VehicleJourney': {'Operational': {'TicketMac...  \n",
              "..                                                 ...  \n",
              "134  {'VehicleJourney': {'Operational': {'TicketMac...  \n",
              "135  {'VehicleJourney': {'Operational': {'TicketMac...  \n",
              "136  {'VehicleJourney': {'Operational': {'TicketMac...  \n",
              "137  {'VehicleJourney': {'Operational': {'TicketMac...  \n",
              "138  {'VehicleJourney': {'Operational': {'TicketMac...  \n",
              "\n",
              "[813 rows x 5 columns]"
            ],
            "text/html": [
              "\n",
              "  <div id=\"df-a9a1b82d-06ae-44f9-acfd-6052339c9493\">\n",
              "    <div class=\"colab-df-container\">\n",
              "      <div>\n",
              "<style scoped>\n",
              "    .dataframe tbody tr th:only-of-type {\n",
              "        vertical-align: middle;\n",
              "    }\n",
              "\n",
              "    .dataframe tbody tr th {\n",
              "        vertical-align: top;\n",
              "    }\n",
              "\n",
              "    .dataframe thead th {\n",
              "        text-align: right;\n",
              "    }\n",
              "</style>\n",
              "<table border=\"1\" class=\"dataframe\">\n",
              "  <thead>\n",
              "    <tr style=\"text-align: right;\">\n",
              "      <th></th>\n",
              "      <th>RecordedAtTime</th>\n",
              "      <th>ItemIdentifier</th>\n",
              "      <th>ValidUntilTime</th>\n",
              "      <th>MonitoredVehicleJourney</th>\n",
              "      <th>Extensions</th>\n",
              "    </tr>\n",
              "  </thead>\n",
              "  <tbody>\n",
              "    <tr>\n",
              "      <th>0</th>\n",
              "      <td>2022-09-07T07:07:19+00:00</td>\n",
              "      <td>467dce63-7573-45d9-8713-7337ed464c80</td>\n",
              "      <td>2022-09-07T07:12:41.884566</td>\n",
              "      <td>{'LineRef': '7', 'DirectionRef': 'inbound', 'F...</td>\n",
              "      <td>{'VehicleJourney': {'Operational': {'TicketMac...</td>\n",
              "    </tr>\n",
              "    <tr>\n",
              "      <th>1</th>\n",
              "      <td>2022-09-07T07:07:24+00:00</td>\n",
              "      <td>14f33ea4-9c31-4d9a-bfbd-daf3577a3e0d</td>\n",
              "      <td>2022-09-07T07:12:41.884913</td>\n",
              "      <td>{'LineRef': '1', 'DirectionRef': 'outbound', '...</td>\n",
              "      <td>{'VehicleJourney': {'Operational': {'TicketMac...</td>\n",
              "    </tr>\n",
              "    <tr>\n",
              "      <th>2</th>\n",
              "      <td>2022-09-07T07:07:07+00:00</td>\n",
              "      <td>67470c05-e1c5-4178-89cc-075f0036c562</td>\n",
              "      <td>2022-09-07T07:12:41.885080</td>\n",
              "      <td>{'LineRef': '132', 'DirectionRef': 'outbound',...</td>\n",
              "      <td>{'VehicleJourney': {'Operational': {'TicketMac...</td>\n",
              "    </tr>\n",
              "    <tr>\n",
              "      <th>3</th>\n",
              "      <td>2022-09-07T07:07:21+00:00</td>\n",
              "      <td>40333a3d-7fc0-4f01-95fb-370b9832197b</td>\n",
              "      <td>2022-09-07T07:12:41.885228</td>\n",
              "      <td>{'LineRef': '190', 'DirectionRef': 'inbound', ...</td>\n",
              "      <td>{'VehicleJourney': {'Operational': {'TicketMac...</td>\n",
              "    </tr>\n",
              "    <tr>\n",
              "      <th>4</th>\n",
              "      <td>2022-09-07T07:07:24+00:00</td>\n",
              "      <td>2ed7b0ad-8703-4e98-b52d-7e7a81e14ee1</td>\n",
              "      <td>2022-09-07T07:12:41.885371</td>\n",
              "      <td>{'LineRef': '101', 'DirectionRef': 'outbound',...</td>\n",
              "      <td>{'VehicleJourney': {'Operational': {'TicketMac...</td>\n",
              "    </tr>\n",
              "    <tr>\n",
              "      <th>...</th>\n",
              "      <td>...</td>\n",
              "      <td>...</td>\n",
              "      <td>...</td>\n",
              "      <td>...</td>\n",
              "      <td>...</td>\n",
              "    </tr>\n",
              "    <tr>\n",
              "      <th>134</th>\n",
              "      <td>2022-09-07T07:30:00+00:00</td>\n",
              "      <td>17669475-a77a-435a-9e98-8f63db2c348b</td>\n",
              "      <td>2022-09-07T07:37:45.894430</td>\n",
              "      <td>{'LineRef': '166', 'DirectionRef': 'outbound',...</td>\n",
              "      <td>{'VehicleJourney': {'Operational': {'TicketMac...</td>\n",
              "    </tr>\n",
              "    <tr>\n",
              "      <th>135</th>\n",
              "      <td>2022-09-07T07:32:11+00:00</td>\n",
              "      <td>b990bd12-9813-4194-8b23-0c7b4bbd9ee9</td>\n",
              "      <td>2022-09-07T07:37:45.894591</td>\n",
              "      <td>{'LineRef': '155', 'DirectionRef': 'inbound', ...</td>\n",
              "      <td>{'VehicleJourney': {'Operational': {'TicketMac...</td>\n",
              "    </tr>\n",
              "    <tr>\n",
              "      <th>136</th>\n",
              "      <td>2022-09-07T07:32:37+00:00</td>\n",
              "      <td>e827e916-76a2-48a1-8d6d-1ff201c9e14e</td>\n",
              "      <td>2022-09-07T07:37:45.894751</td>\n",
              "      <td>{'LineRef': '182', 'DirectionRef': 'outbound',...</td>\n",
              "      <td>{'VehicleJourney': {'Operational': {'TicketMac...</td>\n",
              "    </tr>\n",
              "    <tr>\n",
              "      <th>137</th>\n",
              "      <td>2022-09-07T06:59:46+00:00</td>\n",
              "      <td>d6c5aac3-7ec0-433a-816e-ea19d0e6a7b3</td>\n",
              "      <td>2022-09-07T07:37:45.894911</td>\n",
              "      <td>{'LineRef': '692', 'DirectionRef': 'inbound', ...</td>\n",
              "      <td>{'VehicleJourney': {'Operational': {'TicketMac...</td>\n",
              "    </tr>\n",
              "    <tr>\n",
              "      <th>138</th>\n",
              "      <td>2022-09-07T07:32:24+00:00</td>\n",
              "      <td>a18547a1-b634-432d-aba3-24906ae51b14</td>\n",
              "      <td>2022-09-07T07:37:45.895069</td>\n",
              "      <td>{'LineRef': '647', 'DirectionRef': 'outbound',...</td>\n",
              "      <td>{'VehicleJourney': {'Operational': {'TicketMac...</td>\n",
              "    </tr>\n",
              "  </tbody>\n",
              "</table>\n",
              "<p>813 rows × 5 columns</p>\n",
              "</div>\n",
              "      <button class=\"colab-df-convert\" onclick=\"convertToInteractive('df-a9a1b82d-06ae-44f9-acfd-6052339c9493')\"\n",
              "              title=\"Convert this dataframe to an interactive table.\"\n",
              "              style=\"display:none;\">\n",
              "        \n",
              "  <svg xmlns=\"http://www.w3.org/2000/svg\" height=\"24px\"viewBox=\"0 0 24 24\"\n",
              "       width=\"24px\">\n",
              "    <path d=\"M0 0h24v24H0V0z\" fill=\"none\"/>\n",
              "    <path d=\"M18.56 5.44l.94 2.06.94-2.06 2.06-.94-2.06-.94-.94-2.06-.94 2.06-2.06.94zm-11 1L8.5 8.5l.94-2.06 2.06-.94-2.06-.94L8.5 2.5l-.94 2.06-2.06.94zm10 10l.94 2.06.94-2.06 2.06-.94-2.06-.94-.94-2.06-.94 2.06-2.06.94z\"/><path d=\"M17.41 7.96l-1.37-1.37c-.4-.4-.92-.59-1.43-.59-.52 0-1.04.2-1.43.59L10.3 9.45l-7.72 7.72c-.78.78-.78 2.05 0 2.83L4 21.41c.39.39.9.59 1.41.59.51 0 1.02-.2 1.41-.59l7.78-7.78 2.81-2.81c.8-.78.8-2.07 0-2.86zM5.41 20L4 18.59l7.72-7.72 1.47 1.35L5.41 20z\"/>\n",
              "  </svg>\n",
              "      </button>\n",
              "      \n",
              "  <style>\n",
              "    .colab-df-container {\n",
              "      display:flex;\n",
              "      flex-wrap:wrap;\n",
              "      gap: 12px;\n",
              "    }\n",
              "\n",
              "    .colab-df-convert {\n",
              "      background-color: #E8F0FE;\n",
              "      border: none;\n",
              "      border-radius: 50%;\n",
              "      cursor: pointer;\n",
              "      display: none;\n",
              "      fill: #1967D2;\n",
              "      height: 32px;\n",
              "      padding: 0 0 0 0;\n",
              "      width: 32px;\n",
              "    }\n",
              "\n",
              "    .colab-df-convert:hover {\n",
              "      background-color: #E2EBFA;\n",
              "      box-shadow: 0px 1px 2px rgba(60, 64, 67, 0.3), 0px 1px 3px 1px rgba(60, 64, 67, 0.15);\n",
              "      fill: #174EA6;\n",
              "    }\n",
              "\n",
              "    [theme=dark] .colab-df-convert {\n",
              "      background-color: #3B4455;\n",
              "      fill: #D2E3FC;\n",
              "    }\n",
              "\n",
              "    [theme=dark] .colab-df-convert:hover {\n",
              "      background-color: #434B5C;\n",
              "      box-shadow: 0px 1px 3px 1px rgba(0, 0, 0, 0.15);\n",
              "      filter: drop-shadow(0px 1px 2px rgba(0, 0, 0, 0.3));\n",
              "      fill: #FFFFFF;\n",
              "    }\n",
              "  </style>\n",
              "\n",
              "      <script>\n",
              "        const buttonEl =\n",
              "          document.querySelector('#df-a9a1b82d-06ae-44f9-acfd-6052339c9493 button.colab-df-convert');\n",
              "        buttonEl.style.display =\n",
              "          google.colab.kernel.accessAllowed ? 'block' : 'none';\n",
              "\n",
              "        async function convertToInteractive(key) {\n",
              "          const element = document.querySelector('#df-a9a1b82d-06ae-44f9-acfd-6052339c9493');\n",
              "          const dataTable =\n",
              "            await google.colab.kernel.invokeFunction('convertToInteractive',\n",
              "                                                     [key], {});\n",
              "          if (!dataTable) return;\n",
              "\n",
              "          const docLinkHtml = 'Like what you see? Visit the ' +\n",
              "            '<a target=\"_blank\" href=https://colab.research.google.com/notebooks/data_table.ipynb>data table notebook</a>'\n",
              "            + ' to learn more about interactive tables.';\n",
              "          element.innerHTML = '';\n",
              "          dataTable['output_type'] = 'display_data';\n",
              "          await google.colab.output.renderOutput(dataTable, element);\n",
              "          const docLink = document.createElement('div');\n",
              "          docLink.innerHTML = docLinkHtml;\n",
              "          element.appendChild(docLink);\n",
              "        }\n",
              "      </script>\n",
              "    </div>\n",
              "  </div>\n",
              "  "
            ]
          },
          "metadata": {}
        }
      ]
    },
    {
      "cell_type": "markdown",
      "source": [
        "### Task 4\n",
        "---\n",
        "Create a new dataframe which is normalized (using pd.json_normalize()) by the column `MonitoredVehicleJourney` "
      ],
      "metadata": {
        "id": "b7tJKDpgzkTi"
      }
    },
    {
      "cell_type": "code",
      "source": [],
      "metadata": {
        "id": "_sVvlEmnz35q"
      },
      "execution_count": null,
      "outputs": []
    },
    {
      "cell_type": "markdown",
      "source": [
        "### Task 5\n",
        "---\n",
        "Copy the column `RecordedAtTime` from the first big dataframe to the new dataframe you created in Task 4\n",
        "\n",
        "*hint: you will need to convert the old column to a list*\n",
        "\n",
        "**Expected output:** 18 columns "
      ],
      "metadata": {
        "id": "UAWCw1Rxz4Xm"
      }
    },
    {
      "cell_type": "code",
      "source": [],
      "metadata": {
        "id": "cNn7vfmt0iSL"
      },
      "execution_count": null,
      "outputs": []
    },
    {
      "cell_type": "markdown",
      "source": [
        "### Task 6\n",
        "---\n",
        "Remove the columns `\"DirectionRef\", \"PublishedLineName\", \"OperatorRef\", \"OriginRef\", \"DestinationRef\", \"DestinationAimedArrivalTime\", \"Bearing\", \"BlockRef\", \"FramedVehicleJourneyRef.DataFrameRef\", 'FramedVehicleJourneyRef.DatedVehicleJourneyRef'`"
      ],
      "metadata": {
        "id": "z4JDEFGjzKq9"
      }
    },
    {
      "cell_type": "code",
      "source": [],
      "metadata": {
        "id": "2CYX25yd0iz4"
      },
      "execution_count": null,
      "outputs": []
    },
    {
      "cell_type": "markdown",
      "source": [
        "### Task 7\n",
        "---\n"
      ],
      "metadata": {
        "id": "93xTxhF304Ze"
      }
    },
    {
      "cell_type": "markdown",
      "source": [
        "Remove duplicate rows - only remove them if they are the same in all columns "
      ],
      "metadata": {
        "id": "lc3BWJCEhVEN"
      }
    },
    {
      "cell_type": "code",
      "source": [],
      "metadata": {
        "id": "ZZj7THXK064Y"
      },
      "execution_count": null,
      "outputs": []
    },
    {
      "cell_type": "markdown",
      "source": [
        "### Task 8\n",
        "---\n",
        "Remove all rows which are not of **Euro III** standard.   \n",
        "To do this:\n"
      ],
      "metadata": {
        "id": "0ImtvQHyhhR1"
      }
    },
    {
      "cell_type": "markdown",
      "source": [
        "### Task 8.1\n",
        "--- \n",
        "* read into a new dataframe called `regs_emissions` the vehicle registrations dataset from this link: \"https://raw.githubusercontent.com/futureCodersSE/python-programming-for-data/main/Datasets/bus_regs.csv\"\n"
      ],
      "metadata": {
        "id": "-N8elfh_n56A"
      }
    },
    {
      "cell_type": "code",
      "source": [],
      "metadata": {
        "id": "H37qs7hgnzJ-"
      },
      "execution_count": null,
      "outputs": []
    },
    {
      "cell_type": "markdown",
      "source": [
        "### Task 8.2 \n",
        "---\n",
        "Create a list from the `regs_emissions` dataframe containing all the registrations from `Last tracked` which are Euro III\n",
        "\n",
        "\n",
        "*hint: to_list()*  \n",
        "**Expected Output:**\n",
        "\n",
        "euro3 list has length 56  \n",
        "euro3 list first entry is 1607"
      ],
      "metadata": {
        "id": "feLNzr5So-GB"
      }
    },
    {
      "cell_type": "code",
      "source": [
        "\n"
      ],
      "metadata": {
        "id": "fUs19_1YtVBR"
      },
      "execution_count": null,
      "outputs": []
    },
    {
      "cell_type": "markdown",
      "source": [
        "### Task 8.3\n",
        "---\n",
        "\n",
        "Create a new dataframe called `euro3_buses` which contains only rows where the buses are Euro III standard\n",
        "\n",
        "* find rows where `VehicleRefs` is in the euro III registrations list from 8.2 "
      ],
      "metadata": {
        "id": "kXnV4pE6u_IY"
      }
    },
    {
      "cell_type": "code",
      "source": [],
      "metadata": {
        "id": "RwXxkn6oxQKJ"
      },
      "execution_count": null,
      "outputs": []
    },
    {
      "cell_type": "markdown",
      "source": [
        "### Task 9\n",
        "---\n",
        "We need to remove all rows that are not within the boundary of Rainham High Street (the AQMA) \n",
        "\n",
        "The bounding box for the latitude and longitude is as follows:\n",
        "```\n",
        "Max Lat 51.364935                                 Max Lat 51.364935\n",
        "Min Long: 0.603210 ------------------------------ Max Long 0.617510  \n",
        "                   |                            |  \n",
        "                   |                            |  \n",
        "                   |                            |  \n",
        "                   |                            |  \n",
        "                   |                            |\n",
        "Min Lat 51.361462  ------------------------------ Min Lat 51.361462\n",
        "Min Long 0.603210                                 Max Long 0.617510\n",
        "```\n",
        "Therefore, to be in the boundary:\n",
        "* the longitude must be between 0.603210 and 0.617510\n",
        "* the latitude must be between 51.361462 and 51.364935\n",
        "\n",
        "Remove all rows from the `euro3_buses` df where the latitude and longitude are not within the max and min limits\n",
        "* You will first need to convert the latitude and longitude columns to floats\n",
        "\n",
        "*hint: use pd.to_numeric()* "
      ],
      "metadata": {
        "id": "os0AMrSGxyWG"
      }
    },
    {
      "cell_type": "code",
      "source": [],
      "metadata": {
        "id": "-BtLRop-x6oj"
      },
      "execution_count": null,
      "outputs": []
    },
    {
      "cell_type": "markdown",
      "source": [
        "### Task 10 CHALLENGE  \n",
        "--- \n",
        "Can you do task 8 but with this different method:\n",
        "\n",
        "\n",
        "Create a new column which has the corresponding emissions standard for each `VehicleRef` \n",
        "\n",
        "* repeat task 8.2 but for all emissions standards (you should end up with 4 lists, one for each emissions class)\n",
        "* write a function which takes a dataframe as a parameter \n",
        "* use a series of if/elif statements which checks if the column `VehicleRef` is in each list\n",
        "* return the corresponsing emission as a string for if/elif statement\n",
        "* else return None \n",
        "* apply the function to create a new column called `Emissions_standard` to the dataframe from Task 7 \n",
        "* create a new dataframe which keeps only the rows where the `Emissons_standard` is \"Euro III\"  \n",
        "\n",
        "*hint: df[new_col_name] = df.apply(function_name, axis=1)*\n",
        "\n",
        "How to use apply:\n",
        "\n",
        "The apply() function will apply the function to each line of code - essentially it iterates through the column like a for loop and runs the if statements on each row. \n",
        "\n",
        "Heres an example:\n",
        "\n",
        "```\n",
        "def encode_bmi(df)\n",
        "  if df['bmi'] >= 25:\n",
        "\n",
        "    return 1\n",
        "\n",
        "  else:\n",
        "\n",
        "    return 0\n",
        "\n",
        "df[\"bmi\"] = df.apply(encode_bmi, axis=1)\n",
        "```\n",
        "\n",
        "This code will look at each row of the bmi column in the df and replace the value with 1 if the old value is above 25 and 0 if it's below. \n",
        "\n",
        "If you set the function to a new column name, it will do the same but rather than replace the old value in the bmi column, it will create a new column and put either a 1 or 0 in each row of the new column depending on the if criteria, but the original column will remain the same.\n",
        "\n",
        "eg. \n",
        "```\n",
        "def function_name(df):\n",
        "  if df[old_col] = condition:\n",
        "    return \"condition_met\"\n",
        "  else:\n",
        "    return \"condition_not\"\n",
        "\n",
        "df[new_col_name] = df.apply(function_name, axis=1)\n",
        "```\n"
      ],
      "metadata": {
        "id": "JBugkZK_tV9D"
      }
    },
    {
      "cell_type": "code",
      "source": [],
      "metadata": {
        "id": "NuvzBpj5pTHK"
      },
      "execution_count": null,
      "outputs": []
    }
  ]
}