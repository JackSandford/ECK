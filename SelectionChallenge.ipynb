{
  "nbformat": 4,
  "nbformat_minor": 0,
  "metadata": {
    "colab": {
      "name": "SelectionChallenge.ipynb",
      "provenance": [],
      "collapsed_sections": [],
      "include_colab_link": true
    },
    "kernelspec": {
      "name": "python3",
      "display_name": "Python 3"
    }
  },
  "cells": [
    {
      "cell_type": "markdown",
      "metadata": {
        "id": "view-in-github",
        "colab_type": "text"
      },
      "source": [
        "<a href=\"https://colab.research.google.com/github/JackSandford/ECK/blob/main/SelectionChallenge.ipynb\" target=\"_parent\"><img src=\"https://colab.research.google.com/assets/colab-badge.svg\" alt=\"Open In Colab\"/></a>"
      ]
    },
    {
      "cell_type": "markdown",
      "metadata": {
        "id": "-QxAKPD8DZfj"
      },
      "source": [
        "# Three selection challenges\n",
        "\n",
        "---\n"
      ]
    },
    {
      "cell_type": "markdown",
      "metadata": {
        "id": "2KYUALILDcM9"
      },
      "source": [
        "### Challenge 1 - password format  \n",
        "\n",
        "Write a function called **check_password_valid()** which will check the validity of a **password** input by a user.\n",
        "\n",
        "Rules for a valid password are:  \n",
        "\n",
        "*  At least 1 letter between [a-z] and 1 letter between [A-Z].\n",
        "*  At least 1 number between [0-9].\n",
        "*  At least 1 character from [$#@].\n",
        "*  Minimum length 6 characters.\n",
        "*  Maximum length 16 characters.  \n",
        "\n",
        "Let the user know if the `password` they have typed is valid and, if not, where was the first error.\n",
        "\n",
        "*Hint:  to test if a set of characters is present in a password String, you can use re.search('[character set]', `password`)*  \n",
        "\n",
        "Example:   \n",
        "*if re.search('[a-z]',`password`):*    \n",
        "if there is at least 1 character a-z in the password, re.search will not be None.\n",
        "\n",
        "**re** is a pre-written Python function for pattern searching in Strings.  It has been imported for you in the code cell below.  "
      ]
    },
    {
      "cell_type": "code",
      "metadata": {
        "id": "8wBK9IA4BO2e",
        "outputId": "a357f60d-a693-4f66-96b3-2672f4762c72",
        "colab": {
          "base_uri": "https://localhost:8080/"
        }
      },
      "source": [
        "import re\n",
        "\n",
        "def check_password_valid():\n",
        "  password = input('Enter a valid password: ')\n",
        "  if re.search('[a-z][A-Z][0-9][$#@]', password) and len(password) > 5 and len(password) <17:\n",
        "    print('Valid password')\n",
        "  else: print('Invalid password')\n",
        "# add your check_PasswordValid() function and call below here\n",
        "\n",
        "check_password_valid()\n"
      ],
      "execution_count": 4,
      "outputs": [
        {
          "output_type": "stream",
          "name": "stdout",
          "text": [
            "Enter a valid password: aA0$aA\n",
            "Valid password\n"
          ]
        }
      ]
    },
    {
      "cell_type": "markdown",
      "metadata": {
        "id": "f0R4GYTEFQS-"
      },
      "source": [
        "---\n",
        "### Challenge 2 - triangle shape  \n",
        "\n",
        "Write a function called **evaluate_triangle_shape()** which will check if a triangle is equilateral, isosceles or scalene, based on the three side lengths entered by a user (**x**, **y** and **z**.\n",
        "\n",
        "An equilateral triangle is a triangle in which all three sides are equal.\n",
        "A scalene triangle is a triangle that has three unequal sides.\n",
        "An isosceles triangle is a triangle with (at least) two equal sides.\n",
        "\n",
        "For example:  \n",
        "A triange with side lengths                                 \n",
        "x: 6                                                                    \n",
        "y: 8                                                                    \n",
        "z: 12                                                                   \n",
        "is a *Scalene triangle*\n",
        "\n",
        "A triangle with side lengths\n",
        "x:5  \n",
        "y:3   \n",
        "z:5  \n",
        "is an *Isosceles triangle*"
      ]
    },
    {
      "cell_type": "code",
      "metadata": {
        "id": "oBgl4ro1DVL0",
        "outputId": "f4033fe4-33df-4ef4-b788-c57c178ade7e",
        "colab": {
          "base_uri": "https://localhost:8080/"
        }
      },
      "source": [
        "def evaluate_triangle_shape():\n",
        "  x = input('Enter length of side one: ')\n",
        "  y = input('Enter length of side two: ')\n",
        "  z = input('Enter length of side three: ')\n",
        "  if x == y == z:\n",
        "    print('Equilateral triangle')\n",
        "  elif x == y or y == z or z == x:\n",
        "    print('Isosceles triangle')\n",
        "  else: print('Scalene triangle')\n",
        "\n",
        "evaluate_triangle_shape()"
      ],
      "execution_count": 6,
      "outputs": [
        {
          "output_type": "stream",
          "name": "stdout",
          "text": [
            "Enter length of side one: 5\n",
            "Enter length of side two: 10\n",
            "Enter length of side three: 5\n",
            "Isosceles triangle\n"
          ]
        }
      ]
    },
    {
      "cell_type": "markdown",
      "metadata": {
        "id": "hr2EotkqG33l"
      },
      "source": [
        "---\n",
        "### Challenge 3 - which season\n",
        "\n",
        "Write a function called **determine_season()** which will ask the user to enter two integers representing a **month** and **day** and prints the season for that month and day.\n",
        "\n",
        "Note:  for this exercise the season dates are:\n",
        "*  Winter December 21 to March 20    \n",
        "*  Spring March 21 to June 20  \n",
        "*  Summer June 21 to September 20  \n",
        "*  Autumn September 21 to December 20\n",
        "\n",
        "Test input:  \n",
        "Input the month (e.g. January, February etc.): 7                     \n",
        "Input the day: 31                                                       \n",
        "\n",
        "Expected output:  \n",
        "Season is summer \n",
        "\n",
        "*Note: this will require multiple and or or operators and you should use brackets to help Python know which operations to do first*  \n",
        "\n",
        "*For an extra challenge you can check that the day is valid for the month*"
      ]
    },
    {
      "cell_type": "code",
      "metadata": {
        "id": "cvbfz8nzG4IL",
        "outputId": "97e65481-dc98-4923-8027-39fa5e18fd9e",
        "colab": {
          "base_uri": "https://localhost:8080/"
        }
      },
      "source": [
        "def determine_season():\n",
        "  month = input('Input the month: ')\n",
        "  day = input('Enter the day: ')\n",
        "  month = int(month)\n",
        "  day = int(day)\n",
        "  if day > 31: print('Invalid day')\n",
        "  elif month == 4 or month == 6 or month == 9 or month == 11 and day == 31: print('Invalid day')\n",
        "  elif month == 2 and day > 28: print('Invalid day')\n",
        "  if month > 12 or month < 1: print('Invalid month')\n",
        "  if month > 0 and month < 3: print('Season is Winter')\n",
        "  elif month == 3 and day < 21: print('Season is Winter')\n",
        "  elif month == 3 and day > 20: print('Season is Spring')\n",
        "  elif month > 3 and month < 6: print('Season is Spring')\n",
        "  elif month == 6 and day < 21: print('Season is Spring')\n",
        "  elif month == 6 and day > 20: print('Season is Summer')\n",
        "  elif month > 6 and month < 9: print('Season is Summer')\n",
        "  elif month == 9 and day < 21: print('Season is Summer')\n",
        "  elif month == 9 and day > 20: print('Season is Autumn')\n",
        "  elif month > 9 and month < 12: print('Season is Autumn')\n",
        "  elif month == 12 and day < 21: print('Season is Autumn')\n",
        "  elif month == 12 and day > 20: print('Season is Winter')\n",
        "  else: print('Error')\n",
        "\n",
        "determine_season()"
      ],
      "execution_count": 10,
      "outputs": [
        {
          "output_type": "stream",
          "name": "stdout",
          "text": [
            "Input the month: 7\n",
            "Enter the day: 31\n",
            "Season is Summer\n"
          ]
        }
      ]
    }
  ]
}