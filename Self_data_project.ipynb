{
  "nbformat": 4,
  "nbformat_minor": 0,
  "metadata": {
    "colab": {
      "provenance": [],
      "authorship_tag": "ABX9TyPhBWnB5eBH8wC0/1Ospq9Q",
      "include_colab_link": true
    },
    "kernelspec": {
      "name": "python3",
      "display_name": "Python 3"
    },
    "language_info": {
      "name": "python"
    }
  },
  "cells": [
    {
      "cell_type": "markdown",
      "metadata": {
        "id": "view-in-github",
        "colab_type": "text"
      },
      "source": [
        "<a href=\"https://colab.research.google.com/github/JackSandford/ECK/blob/main/Self_data_project.ipynb\" target=\"_parent\"><img src=\"https://colab.research.google.com/assets/colab-badge.svg\" alt=\"Open In Colab\"/></a>"
      ]
    },
    {
      "cell_type": "markdown",
      "source": [
        "Importing data"
      ],
      "metadata": {
        "id": "SIjWUP0Fp4MR"
      }
    },
    {
      "cell_type": "code",
      "execution_count": 14,
      "metadata": {
        "colab": {
          "base_uri": "https://localhost:8080/"
        },
        "id": "WJ6TqgK6pes_",
        "outputId": "a4ed77f5-a064-47ee-f7af-4a4d4cda60b8"
      },
      "outputs": [
        {
          "output_type": "stream",
          "name": "stdout",
          "text": [
            "Mounted at /content/drive\n"
          ]
        }
      ],
      "source": [
        "import os\n",
        "import pandas as pd\n",
        "import json \n",
        "from google.colab import drive\n",
        "import matplotlib.pyplot as plt\n",
        "\n",
        "def mount_drive():\n",
        "  drive.mount('/content/drive', force_remount=True)\n",
        "  project_dir = \"/content/drive/MyDrive/OneHourOfData\"\n",
        "  return project_dir\n",
        "\n",
        "def unmount_drive():\n",
        "  drive.flush_and_unmount()\n",
        "  print('Drive Unmounted')\n",
        "\n",
        "def get_file_names(project_dir):\n",
        "  path = os.path.join(os.getcwd(),project_dir)\n",
        "  filenames = [os.path.join(path,i) for i in os.listdir(path) if os.path.isfile(os.path.join(path,i))]\n",
        "  return filenames\n",
        "\n",
        "\n",
        "project_dir = mount_drive()\n",
        "\n",
        "filenames = get_file_names(project_dir)\n",
        "filenames = filenames[:6]"
      ]
    },
    {
      "cell_type": "code",
      "source": [
        "regs = pd.read_csv('https://raw.githubusercontent.com/futureCodersSE/python-programming-for-data/main/Datasets/bus_regs.csv')\n",
        "ohod = pd.read_json('/content/drive/MyDrive/OneHourOfData/busdata_22-09-07_08-07-48.json')"
      ],
      "metadata": {
        "id": "vFxIcLBOrA0E"
      },
      "execution_count": 2,
      "outputs": []
    },
    {
      "cell_type": "markdown",
      "source": [
        "Creating a pie chart showing percentages of each type of bus"
      ],
      "metadata": {
        "id": "VjLf82RisEtT"
      }
    },
    {
      "cell_type": "code",
      "source": [
        "def types_of_buses():\n",
        "  euro3buses = []\n",
        "  euro4buses = []\n",
        "  euro5buses = []\n",
        "  euro6buses = []\n",
        "  mvj = pd.json_normalize(ohod.MonitoredVehicleJourney)\n",
        "  euro3regs = regs[regs['Emission Class'] == 'EURO III']\n",
        "  euro4regs = regs[regs['Emission Class'] == 'EURO IV']\n",
        "  euro5regs = regs[regs['Emission Class'] == 'EURO V']\n",
        "  euro6regs = regs[regs['Emission Class'] == 'EURO VI']\n",
        "  for reg in mvj['VehicleRef']:\n",
        "    if reg in euro3regs['Last tracked']:\n",
        "      euro3buses.append(reg)\n",
        "    elif reg in euro4regs['Last tracked']:\n",
        "      euro4buses.append(reg)\n",
        "    elif reg in euro5regs['Last tracked']:\n",
        "      euro5buses.append(reg)\n",
        "    elif reg in euro6regs['Last tracked']:\n",
        "      euro6buses.append(reg)\n",
        "  numbersbuses = (len(euro3buses), len(euro4buses), len(euro5buses), len(euro6buses))\n",
        "  keys = ('EURO III', 'EURO IV', 'EURO V', 'EURO VI')\n",
        "  plt.pie(numbersbuses, labels = keys)\n",
        "types_of_buses()\n",
        "\n",
        "#display(euro3regs)"
      ],
      "metadata": {
        "colab": {
          "base_uri": "https://localhost:8080/",
          "height": 248
        },
        "id": "WlEix7sZrdx4",
        "outputId": "88919010-b640-4b09-ba53-8aef6d2ee6a7"
      },
      "execution_count": 15,
      "outputs": [
        {
          "output_type": "display_data",
          "data": {
            "text/plain": [
              "<Figure size 432x288 with 1 Axes>"
            ],
            "image/png": "[encoded data removed]"
          },
          "metadata": {}
        }
      ]
    }
  ]
}