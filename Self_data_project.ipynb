{
  "nbformat": 4,
  "nbformat_minor": 0,
  "metadata": {
    "colab": {
      "provenance": [],
      "authorship_tag": "ABX9TyMVhp3CntzCIkGRevDqfv89",
      "include_colab_link": true
    },
    "kernelspec": {
      "name": "python3",
      "display_name": "Python 3"
    },
    "language_info": {
      "name": "python"
    }
  },
  "cells": [
    {
      "cell_type": "markdown",
      "metadata": {
        "id": "view-in-github",
        "colab_type": "text"
      },
      "source": [
        "<a href=\"https://colab.research.google.com/github/JackSandford/ECK/blob/main/Self_data_project.ipynb\" target=\"_parent\"><img src=\"https://colab.research.google.com/assets/colab-badge.svg\" alt=\"Open In Colab\"/></a>"
      ]
    },
    {
      "cell_type": "markdown",
      "source": [
        "Importing data"
      ],
      "metadata": {
        "id": "SIjWUP0Fp4MR"
      }
    },
    {
      "cell_type": "code",
      "execution_count": 14,
      "metadata": {
        "colab": {
          "base_uri": "https://localhost:8080/"
        },
        "id": "WJ6TqgK6pes_",
        "outputId": "a4ed77f5-a064-47ee-f7af-4a4d4cda60b8"
      },
      "outputs": [
        {
          "output_type": "stream",
          "name": "stdout",
          "text": [
            "Mounted at /content/drive\n"
          ]
        }
      ],
      "source": [
        "import os\n",
        "import pandas as pd\n",
        "import json \n",
        "from google.colab import drive\n",
        "import matplotlib.pyplot as plt\n",
        "\n",
        "def mount_drive():\n",
        "  drive.mount('/content/drive', force_remount=True)\n",
        "  project_dir = \"/content/drive/MyDrive/OneHourOfData\"\n",
        "  return project_dir\n",
        "\n",
        "def unmount_drive():\n",
        "  drive.flush_and_unmount()\n",
        "  print('Drive Unmounted')\n",
        "\n",
        "def get_file_names(project_dir):\n",
        "  path = os.path.join(os.getcwd(),project_dir)\n",
        "  filenames = [os.path.join(path,i) for i in os.listdir(path) if os.path.isfile(os.path.join(path,i))]\n",
        "  return filenames\n",
        "\n",
        "\n",
        "project_dir = mount_drive()\n",
        "\n",
        "filenames = get_file_names(project_dir)\n",
        "filenames = filenames[:6]"
      ]
    },
    {
      "cell_type": "code",
      "source": [
        "regs = pd.read_csv('https://raw.githubusercontent.com/futureCodersSE/python-programming-for-data/main/Datasets/bus_regs.csv')\n",
        "ohod = pd.read_json('/content/drive/MyDrive/OneHourOfData/busdata_22-09-07_08-07-48.json')"
      ],
      "metadata": {
        "id": "vFxIcLBOrA0E"
      },
      "execution_count": 2,
      "outputs": []
    },
    {
      "cell_type": "markdown",
      "source": [
        "Creating a pie chart showing percentages of each type of bus"
      ],
      "metadata": {
        "id": "VjLf82RisEtT"
      }
    },
    {
      "cell_type": "code",
      "source": [
        "def types_of_buses():\n",
        "  euro3buses = []\n",
        "  euro4buses = []\n",
        "  euro5buses = []\n",
        "  euro6buses = []\n",
        "  euro3regslist = []\n",
        "  euro4regslist = []\n",
        "  euro5regslist = []\n",
        "  euro6regslist = []\n",
        "  mvj = pd.json_normalize(ohod.MonitoredVehicleJourney)\n",
        "  euro3regs = regs[regs['Emission Class'] == 'EURO III']\n",
        "  for reg in euro3regs['Last tracked']:\n",
        "    euro3regslist.append(reg)\n",
        "  euro4regs = regs[regs['Emission Class'] == 'EURO IV']\n",
        "  for reg in euro4regs['Last tracked']:\n",
        "    euro4regslist.append(reg)\n",
        "  euro5regs = regs[regs['Emission Class'] == 'EURO V']\n",
        "  for reg in euro5regs['Last tracked']:\n",
        "    euro5regslist.append(reg)\n",
        "  euro6regs = regs[regs['Emission Class'] == 'EURO VI']\n",
        "  for reg in euro6regs['Last tracked']:\n",
        "    euro6regslist.append(reg)\n",
        "  euro3buses = mvj[mvj['VehicleRef'].isin(euro3regslist)]\n",
        "  euro4buses = mvj[mvj['VehicleRef'].isin(euro4regslist)]\n",
        "  euro5buses = mvj[mvj['VehicleRef'].isin(euro5regslist)]\n",
        "  euro6buses = mvj[mvj['VehicleRef'].isin(euro6regslist)]\n",
        "  numbersbuses = (len(euro3buses), len(euro4buses), len(euro5buses), len(euro6buses))\n",
        "  total_length = len(euro3buses) + len(euro4buses) + len(euro5buses) + len(euro6buses)\n",
        "  percentage3 = round((len(euro3buses) / total_length) * 100, 2)\n",
        "  percentage4 = round((len(euro4buses) / total_length) * 100, 2)\n",
        "  percentage5 = round((len(euro5buses) / total_length) * 100, 2)\n",
        "  percentage6 = round((len(euro6buses) / total_length) * 100, 2)\n",
        "  keys = (('EURO III - {}%'.format(percentage3)), ('EURO IV - {}%'.format(percentage4)), ('EURO V - {}%'.format(percentage5)), ('EURO VI - {}%'.format(percentage6)))\n",
        "  return plt.pie(numbersbuses, labels = keys)\n",
        "  #return percentage3\n",
        "types_of_buses()\n",
        "\n",
        "#display(euro3regs)"
      ],
      "metadata": {
        "colab": {
          "base_uri": "https://localhost:8080/",
          "height": 387
        },
        "id": "WlEix7sZrdx4",
        "outputId": "b4a1551b-c362-4dad-f408-7858558ed36d"
      },
      "execution_count": 38,
      "outputs": [
        {
          "output_type": "execute_result",
          "data": {
            "text/plain": [
              "([<matplotlib.patches.Wedge at 0x7fa50f047a90>,\n",
              "  <matplotlib.patches.Wedge at 0x7fa50f047490>,\n",
              "  <matplotlib.patches.Wedge at 0x7fa50efa9cd0>,\n",
              "  <matplotlib.patches.Wedge at 0x7fa50efa9f90>],\n",
              " [Text(0.8540169897067765, 0.6932928539168537, 'EURO III - 21.71%'),\n",
              "  Text(-0.09364721142351057, 1.0960064779884289, 'EURO IV - 9.3%'),\n",
              "  Text(-0.9458602806525842, 0.561558838843994, 'EURO V - 20.93%'),\n",
              "  Text(0.0669304977830421, -1.0979618884399014, 'EURO VI - 48.06%')])"
            ]
          },
          "metadata": {},
          "execution_count": 38
        },
        {
          "output_type": "display_data",
          "data": {
            "text/plain": [
              "<Figure size 432x288 with 1 Axes>"
            ],
            "image/png": "[encoded data removed]"
          },
          "metadata": {}
        }
      ]
    },
    {
      "cell_type": "code",
      "source": [
        "def euro3only():\n",
        "  for line in zip(regs['Emission Class'],regs['Last tracked']):\n",
        "    if line[0] == 'EURO III':\n",
        "      to_list.append(line[1])\n",
        "  return to_list"
      ],
      "metadata": {
        "id": "qT9euU13z70B"
      },
      "execution_count": null,
      "outputs": []
    }
  ]
}