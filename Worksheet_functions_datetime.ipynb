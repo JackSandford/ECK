{
  "nbformat": 4,
  "nbformat_minor": 0,
  "metadata": {
    "colab": {
      "name": "Worksheet-functions-datetime.ipynb",
      "provenance": [],
      "collapsed_sections": [],
      "include_colab_link": true
    },
    "kernelspec": {
      "name": "python3",
      "display_name": "Python 3"
    },
    "language_info": {
      "name": "python"
    }
  },
  "cells": [
    {
      "cell_type": "markdown",
      "metadata": {
        "id": "view-in-github",
        "colab_type": "text"
      },
      "source": [
        "<a href=\"https://colab.research.google.com/github/JackSandford/ECK/blob/main/Worksheet_functions_datetime.ipynb\" target=\"_parent\"><img src=\"https://colab.research.google.com/assets/colab-badge.svg\" alt=\"Open In Colab\"/></a>"
      ]
    },
    {
      "cell_type": "markdown",
      "metadata": {
        "id": "7iQyKP-SQiw1"
      },
      "source": [
        "# User-defined functions using datetime library\n",
        "\n",
        "---\n"
      ]
    },
    {
      "cell_type": "markdown",
      "metadata": {
        "id": "Vi93h5I4QnKs"
      },
      "source": [
        "When working with dates and times, fairly common in data sets, we need to be able to extract certain bits of information.  \n",
        "\n",
        "In Python, as with other languages, dates and times are stored in a data structure that combines the two together and stores the information as a number of seconds since a start point (often 1st January 1900).  This is obviously a large number but every bit of information about a date can be extracted from it and used to give a wide range of information.  \n",
        "\n",
        "Have a go at the exercises below to use a selection of datetime functions and return a new bit of data from each, to be printed by the caller.\n",
        "\n",
        "Before you can use datetime functions you will need to import them. Import the datetime functions like this:\n",
        "\n",
        "`from datetime import datetime`  \n",
        "\n",
        "\n",
        "For more information about datetime functions visit [w3Schools-Python datetime](https://www.w3schools.com/python/python_datetime.asp) and [Python docs](https://docs.python.org/3/library/datetime.html)"
      ]
    },
    {
      "cell_type": "markdown",
      "metadata": {
        "id": "MIDLi7CNR034"
      },
      "source": [
        "---\n",
        "### Exercise 1 - print current date and time\n",
        "\n",
        "Write a function that will return the date and time now.  The caller will print it.  \n",
        "\n",
        "*Hint:  the format has been added for you, the other exercises will follow a similar format.   Always remember to import datetime from datetime as shown below*"
      ]
    },
    {
      "cell_type": "code",
      "metadata": {
        "id": "gS6GJdXbQfHp",
        "colab": {
          "base_uri": "https://localhost:8080/"
        },
        "outputId": "bcdbe302-1658-4cb8-f0c9-81f82bc77438"
      },
      "source": [
        "import datetime\n",
        "# add your function, called get_datetime_now() below here\n",
        "\n",
        "def get_datetime_now():\n",
        "  return datetime.datetime.now()\n",
        "\n",
        "now_date_time = get_datetime_now()\n",
        "\n",
        "print(now_date_time)"
      ],
      "execution_count": 15,
      "outputs": [
        {
          "output_type": "stream",
          "name": "stdout",
          "text": [
            "2022-09-10 13:55:31.990043\n"
          ]
        }
      ]
    },
    {
      "cell_type": "markdown",
      "metadata": {
        "id": "Yy24sL0bUtpF"
      },
      "source": [
        "---\n",
        "Exercise 2 - print the current year\n",
        "\n",
        "Write a function that will return the current year.  The caller will print the year."
      ]
    },
    {
      "cell_type": "code",
      "metadata": {
        "id": "YqlQqPIqUtyr",
        "colab": {
          "base_uri": "https://localhost:8080/"
        },
        "outputId": "924d6351-fce9-41e0-de07-9c0d7a4b534e"
      },
      "source": [
        "import datetime\n",
        "\n",
        "def current_year():\n",
        "  x = datetime.datetime.now()\n",
        "  return x.strftime('%Y')\n",
        "\n",
        "print(current_year())"
      ],
      "execution_count": 19,
      "outputs": [
        {
          "output_type": "stream",
          "name": "stdout",
          "text": [
            "2022\n"
          ]
        }
      ]
    },
    {
      "cell_type": "markdown",
      "metadata": {
        "id": "FzSVCaJKV1O1"
      },
      "source": [
        "---\n",
        "### Exercise 3 - print the current day of the week\n",
        "\n",
        "Write a function that will return the current day of the week.  The caller will print it."
      ]
    },
    {
      "cell_type": "code",
      "metadata": {
        "id": "OP4ZIXBWV1Yj",
        "colab": {
          "base_uri": "https://localhost:8080/"
        },
        "outputId": "08310407-ce5d-4ccf-a1ac-16d1d00de8a0"
      },
      "source": [
        "import datetime\n",
        "\n",
        "def current_day():\n",
        "  x = datetime.datetime.now()\n",
        "  return x.strftime('%A')\n",
        "\n",
        "print(current_day())"
      ],
      "execution_count": 22,
      "outputs": [
        {
          "output_type": "stream",
          "name": "stdout",
          "text": [
            "Saturday\n"
          ]
        }
      ]
    },
    {
      "cell_type": "markdown",
      "metadata": {
        "id": "a8euCtdmWIDE"
      },
      "source": [
        "---\n",
        "### Exercise 4 - create a new date\n",
        "\n",
        "Write a function that will take 3 parameters, day, month, year (3 numbers that make a valid date) and will create, and return a new date.  The caller will print the date."
      ]
    },
    {
      "cell_type": "code",
      "metadata": {
        "id": "FbOFnTwnWILN",
        "colab": {
          "base_uri": "https://localhost:8080/",
          "height": 36
        },
        "outputId": "024f5492-d6f4-40fb-a4ff-344ba1faa41e"
      },
      "source": [
        "import datetime\n",
        "\n",
        "def full_date_creator(day,month,year):\n",
        "  full_date = datetime.datetime(year, month, day)\n",
        "  return full_date.strftime('%A %d %B %Y')\n",
        "\n",
        "full_date_creator(4,9,2021)"
      ],
      "execution_count": 36,
      "outputs": [
        {
          "output_type": "execute_result",
          "data": {
            "text/plain": [
              "'Saturday 04 September 2021'"
            ],
            "application/vnd.google.colaboratory.intrinsic+json": {
              "type": "string"
            }
          },
          "metadata": {},
          "execution_count": 36
        }
      ]
    },
    {
      "cell_type": "markdown",
      "metadata": {
        "id": "f5SKVuE0WfcE"
      },
      "source": [
        "---\n",
        "### Exercise 5 - create a valid date\n",
        "\n",
        "Write a function that will take 3 parameters, day, month, year (3 numbers) and will:  \n",
        "*   check that the month is between 1 and 12  \n",
        "*   check that the day is valid for the month (e.g. if the month is 2, then the day must be between 1 and 28 (don't worry about leap years for the moment)  \n",
        "*   if the date is not valid, print an error message and return None (which the caller will print)  \n",
        "*   if the date is valid, store it in a new variable, return the variable and the caller will print it."
      ]
    },
    {
      "cell_type": "code",
      "metadata": {
        "id": "gclt-f9-XfdG",
        "colab": {
          "base_uri": "https://localhost:8080/",
          "height": 36
        },
        "outputId": "0b660ae3-58f8-49c2-d89e-5248f3cc2e4b"
      },
      "source": [
        "# Cannot work for values outside of usual date range\n",
        "# Python scans code for errors beforehand.\n",
        "\n",
        "import datetime\n",
        "\n",
        "def valid_date(day, month, year):\n",
        "  while True:\n",
        "    day = int(day)\n",
        "    month = int(month)\n",
        "    year = int(year)\n",
        "    if 12 < month < 1: \n",
        "      print('Invalid month')\n",
        "      return None\n",
        "      break\n",
        "    if day < 1: \n",
        "      print('Invalid day')\n",
        "      return None\n",
        "      break\n",
        "    if month == 2: \n",
        "      if day > 28: \n",
        "        print('Invalid day')\n",
        "        return None\n",
        "        break\n",
        "      else: \n",
        "        enter = 1\n",
        "        break\n",
        "    elif month == 4 or month == 6 or month == 9 or month == 11:\n",
        "      if day > 30: \n",
        "        print('Invalid day')\n",
        "        return None\n",
        "        break\n",
        "      else: \n",
        "        enter = 1\n",
        "        break\n",
        "    else:\n",
        "      if day > 31:\n",
        "        print('Invalid day')\n",
        "        return None\n",
        "        break\n",
        "      else: \n",
        "        enter = 1 \n",
        "        break\n",
        "  if enter == 1: \n",
        "    date = datetime.datetime(year, month, day)\n",
        "    return date.strftime('%x')\n",
        "  \n",
        "valid_date(3, 12, 2002)"
      ],
      "execution_count": 50,
      "outputs": [
        {
          "output_type": "execute_result",
          "data": {
            "text/plain": [
              "'12/03/02'"
            ],
            "application/vnd.google.colaboratory.intrinsic+json": {
              "type": "string"
            }
          },
          "metadata": {},
          "execution_count": 50
        }
      ]
    },
    {
      "cell_type": "markdown",
      "metadata": {
        "id": "js7fy2HWXfm2"
      },
      "source": [
        "---\n",
        "### Exercise 6 - is it a leap year?\n",
        "\n",
        "Write a function that will take a date as a parameter (you will need to create the date variable before calling the function) and will determine if it is a leap year, returning True or False.\n",
        "\n",
        "*Hint:  a leap year is a year that is divisible by 4 but the centuries (1900, 2000, etc are only leap years if they are divisible by 400)*"
      ]
    },
    {
      "cell_type": "code",
      "metadata": {
        "id": "KY1jtf3lX_ps",
        "colab": {
          "base_uri": "https://localhost:8080/"
        },
        "outputId": "6a9f11c8-40af-463e-ddcf-0d2961aa587f"
      },
      "source": [
        "from datetime import datetime\n",
        "def is_leap_year(date_to_check):\n",
        "  # add your code below here\n",
        "  year = date_to_check.strftime(\"%Y\")\n",
        "  year = int(year)\n",
        "  if year % 100 == 0:\n",
        "    if year % 400 == 0:\n",
        "      return True\n",
        "    else: return False\n",
        "  if year % 4 == 0: return True\n",
        "\n",
        "check_date = datetime(1996, 12, 15)\n",
        "if is_leap_year(check_date):\n",
        "  print(check_date.strftime(\"%Y\"), \"is a leap year\")\n",
        "else:\n",
        "  print(check_date.strftime(\"%Y\"), \"is not a leap year\")"
      ],
      "execution_count": 60,
      "outputs": [
        {
          "output_type": "stream",
          "name": "stdout",
          "text": [
            "1996 is a leap year\n"
          ]
        }
      ]
    },
    {
      "cell_type": "markdown",
      "metadata": {
        "id": "9BuRDi08YAO0"
      },
      "source": [
        "---\n",
        "### Exercise 7 - display parts of date/time\n",
        "\n",
        "Write a function that will take a date and print from it the following:  \n",
        "*  given date and time  \n",
        "*  year (in full) \n",
        "*  month (as a number) \n",
        "*  month name \n",
        "*  week number of the year  \n",
        "*  weekday of the week (as a number)  \n",
        "*  day of year  \n",
        "*  day of the month  \n",
        "*  day of week (as a name)  \n",
        "\n",
        "*Hint:  see w3Schools for [strftime reference](https://www.w3schools.com/python/python_datetime.asp)*\n",
        "\n"
      ]
    },
    {
      "cell_type": "code",
      "metadata": {
        "id": "zl-37Ez9ahym",
        "colab": {
          "base_uri": "https://localhost:8080/"
        },
        "outputId": "39c323ae-ee8b-40e6-c9ff-483863515895"
      },
      "source": [
        "def parts_calc(day, month, year):\n",
        "  date = datetime(year, month, day)\n",
        "  print(date.strftime('%c'))\n",
        "  print(date.strftime('%Y'))\n",
        "  print(date.strftime('%m'))\n",
        "  print(date.strftime('%B'))\n",
        "  print(date.strftime('%U'))\n",
        "  print(date.strftime('%w'))\n",
        "  print(date.strftime('%j'))\n",
        "  print(date.strftime('%d'))\n",
        "  print(date.strftime('%A'))\n",
        "\n",
        "parts_calc(15, 12, 1996)"
      ],
      "execution_count": 65,
      "outputs": [
        {
          "output_type": "stream",
          "name": "stdout",
          "text": [
            "Sun Dec 15 00:00:00 1996\n",
            "1996\n",
            "12\n",
            "December\n",
            "50\n",
            "0\n",
            "350\n",
            "15\n",
            "Sunday\n"
          ]
        }
      ]
    },
    {
      "cell_type": "markdown",
      "metadata": {
        "id": "_rpTIoSDaiBj"
      },
      "source": [
        "---\n",
        "### Exercise 8 - next 6 days\n",
        "\n",
        "Write a function that will take a date and generate the dates of the following 6 days.  It should print each of the 6 days in the form:  \n",
        "\n",
        "DAY OF THE WEEK, MONTH NAME, FULL YEAR\n",
        "\n",
        "Hint:  to generate the days, use the function datetime.timedelta(), there is a good example of its use [here](https://www.geeksforgeeks.org/python-datetime-timedelta-function/)  "
      ]
    },
    {
      "cell_type": "code",
      "metadata": {
        "id": "1d-oXqLLb0vX",
        "colab": {
          "base_uri": "https://localhost:8080/"
        },
        "outputId": "22fabf3d-5fb1-4a9d-da87-9fc4e86b70a7"
      },
      "source": [
        "from datetime import datetime, timedelta\n",
        "\n",
        "def next_6_days(startday, startmonth, startyear):\n",
        "  date = datetime(startyear, startmonth, startday)\n",
        "  datelist = []\n",
        "  key = 0\n",
        "  while key < 6:\n",
        "    key = key + 1\n",
        "    datelist.append(date + timedelta(days = key))\n",
        "  for day in datelist:\n",
        "    print(day.strftime('%A, %B, %Y'))\n",
        "\n",
        "next_6_days(30, 12, 1996)"
      ],
      "execution_count": 75,
      "outputs": [
        {
          "output_type": "stream",
          "name": "stdout",
          "text": [
            "Tuesday, December, 1996\n",
            "Wednesday, January, 1997\n",
            "Thursday, January, 1997\n",
            "Friday, January, 1997\n",
            "Saturday, January, 1997\n",
            "Sunday, January, 1997\n"
          ]
        }
      ]
    },
    {
      "cell_type": "markdown",
      "metadata": {
        "id": "22Rhwx2Sb1Ey"
      },
      "source": [
        "---\n",
        "### Optional extra practice\n",
        "\n",
        "There are some similar and some more challenging exercises [here](https://www.w3resource.com/python-exercises/date-time-exercise/) if you would like to practice more. The site has its own editor."
      ]
    }
  ]
}