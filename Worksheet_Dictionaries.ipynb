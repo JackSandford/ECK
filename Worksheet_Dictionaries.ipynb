{
  "nbformat": 4,
  "nbformat_minor": 0,
  "metadata": {
    "colab": {
      "name": "Worksheet - Dictionaries.ipynb",
      "provenance": [],
      "collapsed_sections": [],
      "include_colab_link": true
    },
    "kernelspec": {
      "name": "python3",
      "display_name": "Python 3"
    },
    "language_info": {
      "name": "python"
    }
  },
  "cells": [
    {
      "cell_type": "markdown",
      "metadata": {
        "id": "view-in-github",
        "colab_type": "text"
      },
      "source": [
        "<a href=\"https://colab.research.google.com/github/JackSandford/ECK/blob/main/Worksheet_Dictionaries.ipynb\" target=\"_parent\"><img src=\"https://colab.research.google.com/assets/colab-badge.svg\" alt=\"Open In Colab\"/></a>"
      ]
    },
    {
      "cell_type": "markdown",
      "metadata": {
        "id": "AiiF1h2X4PHP"
      },
      "source": [
        "# Dictionaries\n",
        "\n",
        "---\n",
        "\n",
        "A **dictionary** is a collection of dissimilar data stored together in one *record*. Each item of data has a  (or key) that describes its paired value.  \n",
        "\n",
        "Create a dictionary object by declaring the set of keys and values, e.g.:\n",
        "\n",
        "```\n",
        "   transport = {\n",
        "       \"type\":\"bus\",\n",
        "       \"numPassengers\":72,\n",
        "       \"colour\":\"blue\",\n",
        "       \"fuel\":\"diesel\"\n",
        "   }\n",
        "```\n",
        "\n",
        "To access a value in a dictionary, use its key:  \n",
        "\n",
        "```\n",
        "transport[\"type\"] = \"coach\"\n",
        "transport_type = transport[\"type\"]\n",
        "transport_colour = transport[\"colour\"]\n",
        "transport[\"fuel\"] = petrol\n",
        "```\n",
        "\n",
        "To add a new key/value pair to a dictionary, simply assign a value to a new key:  \n",
        "```\n",
        "transport[\"seats\"] = 54\n",
        "```\n",
        "\n",
        "The transport dictionary will now look like this:  \n",
        "```\n",
        "   transport = {\n",
        "       \"type\":\"bus\",\n",
        "       \"numPassengers\":72,\n",
        "       \"colour\":\"blue\",\n",
        "       \"fuel\":\"diesel\",\n",
        "       \"seats\":54\n",
        "   }\n",
        "```\n",
        "\n"
      ]
    },
    {
      "cell_type": "markdown",
      "metadata": {
        "id": "1uZ5kNWB6CqK"
      },
      "source": [
        "---\n",
        "### Exercise 1 - print dictionary\n",
        "\n",
        "Write a function which will:  \n",
        "\n",
        "*  create an empty dictionary for a person (name, age and postcode, with values \"\", 0 and \"\")\n",
        "*  ask the user for name, age and postcode and assign the values to the correct keys in the dictionary  \n",
        "*  print the dictionary\n",
        "\n",
        "Test input:  \n",
        "Jack Jones  \n",
        "16  \n",
        "AB5 3DF  \n",
        "\n",
        "Expected output:  \n",
        "```{'name':'Jack Jones', 'age':16, 'postcode':'AB5 3DF'}```"
      ]
    },
    {
      "cell_type": "code",
      "metadata": {
        "id": "Ac7VQTj94Mrc",
        "colab": {
          "base_uri": "https://localhost:8080/"
        },
        "outputId": "29369872-5e11-459f-fed4-627e89051c26"
      },
      "source": [
        "def details():\n",
        "  person = {\n",
        "      'name':0,\n",
        "      'age':0,\n",
        "      'postcode':0\n",
        "  }\n",
        "  name = input('Enter name: ')\n",
        "  age = input('Enter age: ')\n",
        "  postcode = input('Enter postcode: ')\n",
        "  person['name'] = name\n",
        "  person['age'] = age\n",
        "  person['postcode'] = postcode\n",
        "  return person\n",
        "\n",
        "print(details())"
      ],
      "execution_count": 4,
      "outputs": [
        {
          "output_type": "stream",
          "name": "stdout",
          "text": [
            "Enter name: Jack Jones\n",
            "Enter age: 16\n",
            "Enter postcode: AB5 3DF\n",
            "{'name': 'Jack Jones', 'age': '16', 'postcode': 'AB5 3DF'}\n"
          ]
        }
      ]
    },
    {
      "cell_type": "markdown",
      "metadata": {
        "id": "0OtNqNKv7WKm"
      },
      "source": [
        "---\n",
        "### Exercise 2 - create a dictionary\n",
        "\n",
        "Write a function that will create two dictionaries,without values:  \n",
        "\n",
        "1.  person (with keys firstname, surname, birthdate, postcode)  \n",
        "2.  car (with key/value pairs as follows:  make - Vauxhall, model - Corsa, engineSize - 1199, fuelType - unleaded, num_doors - 4)  \n",
        "\n",
        "*   ask the user to enter the values for the person dictionary  \n",
        "*   print, on one line, the person's name from the person dictionary and the make of the car from the car dictionary.\n",
        "\n",
        "Test input:  \n",
        "Jack  \n",
        "Jones  \n",
        "2005/02/02    \n",
        "AB5 3DF  \n",
        "\n",
        "Expected output:  \n",
        "Jack Jones Vauxhall"
      ]
    },
    {
      "cell_type": "code",
      "metadata": {
        "id": "ZyqhaBCC-GdI",
        "colab": {
          "base_uri": "https://localhost:8080/"
        },
        "outputId": "0cf6eed7-254e-40fe-b946-5a629b4e5b0c"
      },
      "source": [
        "def personscar():\n",
        "  person = {\n",
        "      'Firstname' : 0,\n",
        "      'Surname' : 0,\n",
        "      'Birthdate' : 0,\n",
        "      'Postcode' : 0\n",
        "  }\n",
        "  car = {\n",
        "      'make' : 'Vauxhaull',\n",
        "      'model' : 'Corsa',\n",
        "      'engineSize' : 1199,\n",
        "      'fuelType' : 'unleaded',\n",
        "      'num_doors' : 4\n",
        "  }\n",
        "  Firstname = input('Enter First name: ')\n",
        "  Surname = input('Enter Surname: ')\n",
        "  Birthdate = input('Enter Date of Birth: ')\n",
        "  Postcode = input('Enter Postcode: ')\n",
        "\n",
        "  person['Firstname'] = Firstname\n",
        "  person['Surname'] = Surname\n",
        "  person['Birthdate'] = Birthdate\n",
        "  person['Postcode'] = Postcode\n",
        "\n",
        "  return person.get('Firstname',0), person.get('Surname',0), car.get('make')\n",
        "\n",
        "personscar()"
      ],
      "execution_count": 6,
      "outputs": [
        {
          "name": "stdout",
          "output_type": "stream",
          "text": [
            "Enter First name: Jack\n",
            "Enter Surname: Jones\n",
            "Enter Date of Birth: 2005/02/02\n",
            "Enter Postcode: AB5 3DF\n"
          ]
        },
        {
          "output_type": "execute_result",
          "data": {
            "text/plain": [
              "('Jack', 'Jones', 'Vauxhaull')"
            ]
          },
          "metadata": {},
          "execution_count": 6
        }
      ]
    },
    {
      "cell_type": "markdown",
      "metadata": {
        "id": "gYuuOUYw-G4I"
      },
      "source": [
        "---\n",
        "### Exercise 3 - check dictionary values\n",
        "\n",
        "Write a new function which will:\n",
        "\n",
        "*  set up the same two dictionaries as in Exercise 2  \n",
        "*  ask the user to enter the details to complete the person record  \n",
        "*  calculate the person's age  \n",
        "*  if the person is under 17 then print a message to say that they can't buy a car as they are too young to drive\n",
        "*  else if the person is under 25 then print a message to say that an engine size under 1200 is recommended  \n",
        "*  ask the user to enter the make of car that the person is looking for  \n",
        "*  if the user enters the same make as that stored in the car record, then print a message to say that you have one car of that make in stock and print all the details of the car that you have the record for\n",
        "*  else (if the user enters any other car make) then print a message to say sorry that you don't have any cars of that make in stock\n",
        "*  print a message to say that the user can get more details for stockist in the <user's postcode> area if they call 01234567890\n",
        "*  print a message to say \"Thank you <user's name> for using our site\"  \n",
        "\n",
        "Test input:  \n",
        "Jack  \n",
        "Jones  \n",
        "2005/02/02  \n",
        "AB5 3DF  \n",
        "Vauxhall  \n",
        "\n",
        "Expected output:  \n",
        "You are too young to drive\n",
        "\n",
        "Test input:  \n",
        "John  \n",
        "Jones  \n",
        "2003/02/02  \n",
        "AB5 3DF  \n",
        "Vauxhall \n",
        "\n",
        "Expected output:  \n",
        "An engine size under 1200 is recommended  \n",
        "We have one Vauxhall in stock, details:  \n",
        "Make - Vauxhall    \n",
        "Model - Corsa    \n",
        "Engine size - 1199  \n",
        "Fuel type - unleaded   \n",
        "Number of doors - 4  \n",
        "You can get more details of stockists near AB5 3DF on 01234567890  \n",
        "Thank you John Jones for using our site.     \n",
        "\n",
        "Test input:  \n",
        "John  \n",
        "Jones  \n",
        "2003/02/02  \n",
        "AB5 3DF  \n",
        "Ford  \n",
        "\n",
        "Expected output:  \n",
        "An engine size under 1200 is recommended  \n",
        "Sorry, we don't have any of that make in stock  \n"
      ]
    },
    {
      "cell_type": "code",
      "metadata": {
        "id": "Wp9Il2JG_hDh",
        "colab": {
          "base_uri": "https://localhost:8080/"
        },
        "outputId": "cafc69cb-7d00-419a-d492-ff0ab03dd25a"
      },
      "source": [
        "import datetime\n",
        "from datetime import timedelta\n",
        "\n",
        "def personscar():\n",
        "  person = {\n",
        "      'Firstname' : 0,\n",
        "      'Surname' : 0,\n",
        "      'Birthdate' : 0,\n",
        "      'Postcode' : 0\n",
        "  }\n",
        "  car = {\n",
        "      'make' : 'Vauxhaull',\n",
        "      'model' : 'Corsa',\n",
        "      'engineSize' : 1199,\n",
        "      'fuelType' : 'unleaded',\n",
        "      'num_doors' : 4\n",
        "  }\n",
        "  Firstname = input('Enter First name: ')\n",
        "  Surname = input('Enter Surname: ')\n",
        "  Birthdate = input('Enter Date of Birth: ')\n",
        "  Postcode = input('Enter Postcode: ')\n",
        "\n",
        "  person['Firstname'] = Firstname\n",
        "  person['Surname'] = Surname\n",
        "  person['Birthdate'] = Birthdate\n",
        "  person['Postcode'] = Postcode\n",
        "\n",
        "  today = datetime.datetime.now()\n",
        "  doBslashes = person.get('Birthdate',0)\n",
        "  doBslashes = doBslashes.split('/')\n",
        "  doB = datetime.datetime(int(doBslashes[0]), int(doBslashes[1]), int(doBslashes[2]))\n",
        "  print(type(doB))\n",
        "  print(doB)\n",
        "  \n",
        "  drivetime = timedelta(days = 17*365.25)\n",
        "  oldtime = timedelta(days = 25*365.25)\n",
        "  agedays = today - doB\n",
        "  age = agedays/365.25\n",
        "  print(age.days, 'years')\n",
        "  if agedays < drivetime: print('You are too young to drive')\n",
        "  elif age < oldtime: print('An engine size of less than 1200 is recommended')\n",
        "  make = input('Enter make of car: ')\n",
        "  if car.get('make',0) == make: \n",
        "    print('I have one car of that make in stock')\n",
        "    for k, v in car.items():\n",
        "      print(k, '-', v)\n",
        "  else: print('Sorry but we don\\'t have any of that make in stock')\n",
        "  postcode = person.get('Postcode',0)\n",
        "  username = person.get('Firstname',0)\n",
        "  print('You can get more details for stocklist in', postcode, 'area by calling 01234567890')\n",
        "  print('Thank you', username, 'for using our site')\n",
        "\n",
        "  #return person.get('Firstname',0), person.get('Surname',0), car.get('make')\n",
        "\n",
        "personscar()\n",
        "personscar()\n",
        "personscar()"
      ],
      "execution_count": 43,
      "outputs": [
        {
          "output_type": "stream",
          "name": "stdout",
          "text": [
            "Enter First name: Jack\n",
            "Enter Surname: Jones\n",
            "Enter Date of Birth: 2005/02/02\n",
            "Enter Postcode: AB5 3DF\n",
            "<class 'datetime.datetime'>\n",
            "2005-02-02 00:00:00\n",
            "17 years\n",
            "An engine size of less than 1200 is recommended\n",
            "Enter make of car: Vauxhaull\n",
            "I have one car of that make in stock\n",
            "make - Vauxhaull\n",
            "model - Corsa\n",
            "engineSize - 1199\n",
            "fuelType - unleaded\n",
            "num_doors - 4\n",
            "You can get more details for stocklist in AB5 3DF area by calling 01234567890\n",
            "Thank you Jack for using our site\n",
            "Enter First name: John\n",
            "Enter Surname: Jones\n",
            "Enter Date of Birth: 2003/02/02\n",
            "Enter Postcode: AB5 3DF\n",
            "<class 'datetime.datetime'>\n",
            "2003-02-02 00:00:00\n",
            "19 years\n",
            "An engine size of less than 1200 is recommended\n",
            "Enter make of car: Vauxhaull\n",
            "I have one car of that make in stock\n",
            "make - Vauxhaull\n",
            "model - Corsa\n",
            "engineSize - 1199\n",
            "fuelType - unleaded\n",
            "num_doors - 4\n",
            "You can get more details for stocklist in AB5 3DF area by calling 01234567890\n",
            "Thank you John for using our site\n",
            "Enter First name: John\n",
            "Enter Surname: Jones\n",
            "Enter Date of Birth: 2003/02/02\n",
            "Enter Postcode: AB5 3DF\n",
            "<class 'datetime.datetime'>\n",
            "2003-02-02 00:00:00\n",
            "19 years\n",
            "An engine size of less than 1200 is recommended\n",
            "Enter make of car: Ford\n",
            "Sorry but we don't have any of that make in stock\n",
            "You can get more details for stocklist in AB5 3DF area by calling 01234567890\n",
            "Thank you John for using our site\n"
          ]
        }
      ]
    },
    {
      "cell_type": "markdown",
      "metadata": {
        "id": "I6dUiRwn7Gkg"
      },
      "source": [
        "---\n",
        "### Exercise 4 - print keys and values\n",
        "\n",
        "Two dictionaries have been created below.  You can print a list of the dictionary's keys using `dictionary_name.keys()` and the values using `dictionary_name.values()`\n",
        "\n",
        "Write a function which will accept a dictionary as a parameter and will:  \n",
        "*  print the dictionary keys as a list   \n",
        "*  print the dictionary values as a list  \n",
        "\n",
        "*Hint*:  you will need to cast the keys as a list (`list(dictionary_name.keys()`)  and do the same for the values.\n",
        "\n",
        "**Expected Output**\n",
        "\n",
        "Input: English  \n",
        "Output: \n",
        "['Andy', 'Angela']  \n",
        "[95, 53]  \n",
        "\n",
        "Input: Maths  \n",
        "Output:  \n",
        "['Andy', 'Angela']  \n",
        "[58, 72] \n",
        " \n",
        "\n",
        "\n"
      ]
    },
    {
      "cell_type": "code",
      "metadata": {
        "id": "FApOckhJEsMs",
        "colab": {
          "base_uri": "https://localhost:8080/"
        },
        "outputId": "aca490be-6d2e-4fb9-c45c-37c0a55ea07c"
      },
      "source": [
        "def display_dictionary(scores):\n",
        "  #  add your code below this line\n",
        "  english_scores = {'Andy': 95, 'Angela': 53}\n",
        "  maths_scores = {'Andy': 58, 'Angela': 72}     \n",
        "  if scores == 'english_scores':\n",
        "    print(english_scores.keys())\n",
        "    print(english_scores.values())\n",
        "  if scores == 'maths_scores':\n",
        "    print(maths_scores.keys())\n",
        "    print(maths_scores.values())\n",
        "      \n",
        "\n",
        "display_dictionary('english_scores')\n",
        "display_dictionary('maths_scores')"
      ],
      "execution_count": 50,
      "outputs": [
        {
          "output_type": "stream",
          "name": "stdout",
          "text": [
            "dict_keys(['Andy', 'Angela'])\n",
            "dict_values([95, 53])\n",
            "dict_keys(['Andy', 'Angela'])\n",
            "dict_values([58, 72])\n"
          ]
        }
      ]
    },
    {
      "cell_type": "markdown",
      "metadata": {
        "id": "segSpkmBFSJl"
      },
      "source": [
        "---\n",
        "### Exercise 5 - add field\n",
        "\n",
        "Write a function which will:\n",
        "\n",
        "*  create a new dictionary called **science_scores** with values of 0 for both Andy and Angela\n",
        "*  update Andy's score for science to 73 and Angela's score to 73   \n",
        "*  create a new key/value pair by adding another learner to the `science_scores`  dictionary (George has a score of 55)    \n",
        "*  print the `science_scores` dictionary to check results  \n",
        "\n",
        "Expected Output\n",
        "\n",
        "{'Andy': 73, 'Angela': 73, 'George': 55}"
      ]
    },
    {
      "cell_type": "code",
      "metadata": {
        "id": "BL1JM-Z7Gttf",
        "colab": {
          "base_uri": "https://localhost:8080/"
        },
        "outputId": "5f71d193-6ff2-41d5-b9ac-82da567022bb"
      },
      "source": [
        "def scores():\n",
        "  science_scores = {\n",
        "      'Andy' : 0,\n",
        "      'Angela' : 0\n",
        "  }\n",
        "  science_scores['Andy'] = 73\n",
        "  science_scores['Angela'] = 73\n",
        "  science_scores['George'] = 55\n",
        "  print(science_scores)\n",
        "\n",
        "scores()"
      ],
      "execution_count": 51,
      "outputs": [
        {
          "output_type": "stream",
          "name": "stdout",
          "text": [
            "{'Andy': 73, 'Angela': 73, 'George': 55}\n"
          ]
        }
      ]
    },
    {
      "cell_type": "markdown",
      "metadata": {
        "id": "_Vzv0zlHGt-C"
      },
      "source": [
        "---\n",
        "### Exercise 6 - loop through keys/value pairs\n",
        "\n",
        "Write a function which will use a *for* loop to print the each key/value pair in the science dictionary (recreate this dictionary in this function) \n",
        "\n",
        "*(Hint: you can iterate through the key/value pairs in the dictionary in the same way as you iterate through a loop (e.g. for record in dictionary) and print the record (which is the key) and its value)*\n",
        "\n",
        "Expected output:  \n",
        "\n",
        "Angela 72  \n",
        "Andy 72  \n",
        "George 55  "
      ]
    },
    {
      "cell_type": "code",
      "metadata": {
        "id": "JL40_-W-Hxnt",
        "colab": {
          "base_uri": "https://localhost:8080/"
        },
        "outputId": "1b13c481-2bc9-4fa8-c21e-114ccd29efad"
      },
      "source": [
        "def scores():\n",
        "  science_scores = {\n",
        "      'Andy' : 0,\n",
        "      'Angela' : 0\n",
        "  }\n",
        "  science_scores['Andy'] = 72\n",
        "  science_scores['Angela'] = 72\n",
        "  science_scores['George'] = 55\n",
        "  for k,v in science_scores.items():\n",
        "    print(k,v)\n",
        "\n",
        "scores()"
      ],
      "execution_count": 53,
      "outputs": [
        {
          "output_type": "stream",
          "name": "stdout",
          "text": [
            "Andy 72\n",
            "Angela 72\n",
            "George 55\n"
          ]
        }
      ]
    },
    {
      "cell_type": "markdown",
      "metadata": {
        "id": "G9wamxzRJdrE"
      },
      "source": [
        "---\n",
        "### Exercise 7 - generate new dictionary  \n",
        "\n",
        "Write a functions which will:\n",
        "*  create a new dictionary where the keys are numbers between 1 and 15 (both included) and the values are square of keys\n",
        "*  print the dictionary\n",
        "\n",
        "Expected output:  \n",
        "{1: 1, 2: 4, 3: 9, 4: 16, 5: 25, 6: 36, 7: 49, 8: 64, 9: 81, 10: 100, 11: 121, 12: 144, 13: 169, 14: 196, 15: 225}"
      ]
    },
    {
      "cell_type": "code",
      "metadata": {
        "id": "1-LI-LVrJ--N",
        "colab": {
          "base_uri": "https://localhost:8080/"
        },
        "outputId": "03d28d6d-8be7-456f-ce0d-4f6b412ed2e2"
      },
      "source": [
        "def squares():\n",
        "  key = 0\n",
        "  sqlist = {}\n",
        "  while key < 15:\n",
        "    key = key + 1\n",
        "    sqlist[key] = (key ** 2)\n",
        "  print(sqlist)\n",
        "\n",
        "\n",
        "squares()"
      ],
      "execution_count": 55,
      "outputs": [
        {
          "output_type": "stream",
          "name": "stdout",
          "text": [
            "{1: 1, 2: 4, 3: 9, 4: 16, 5: 25, 6: 36, 7: 49, 8: 64, 9: 81, 10: 100, 11: 121, 12: 144, 13: 169, 14: 196, 15: 225}\n"
          ]
        }
      ]
    },
    {
      "cell_type": "markdown",
      "metadata": {
        "id": "t0y4mefwJ_jQ"
      },
      "source": [
        "---\n",
        "### Exercise 8 - colour dictionary  \n",
        "\n",
        "Write a function which will:  \n",
        "*  create a new dictionary record called colour_codes with the values 'red' - '#FF0000', 'green' - '#008000', 'black' - '#000000', 'white' - '#FFFFFF'\n",
        "*  add a new colour code:  'blue' - '#0000FF'    \n",
        "*  remove the colours black and white from the dictionary  \n",
        "\n",
        "*Hint:  there is a list of methods [here](https://www.w3schools.com/python/python_ref_dictionary.asp)*  "
      ]
    },
    {
      "cell_type": "code",
      "metadata": {
        "id": "yod1mUNOMeWg"
      },
      "source": [
        "def colour_dictionary():\n",
        "  colour_codes = {\n",
        "      'red' : '#FF0000',\n",
        "      'green' : '#008000',\n",
        "      'black' : '#000000',\n",
        "      'white' : '#FFFFFF'\n",
        "  }\n",
        "  colour_codes['blue'] = '#0000FF'\n",
        "  del colour_codes['black']\n",
        "  del colour_codes['white']\n",
        "  #print(colour_codes)\n",
        "\n",
        "colour_dictionary()"
      ],
      "execution_count": 63,
      "outputs": []
    },
    {
      "cell_type": "markdown",
      "metadata": {
        "id": "gjos_0vuMeyS"
      },
      "source": [
        "---\n",
        "### Exercise 9 - item tuples  \n",
        "\n",
        "Write a function which will:  \n",
        "*  create a new dictionary containing the colour codes for red, green, blue, black and white\n",
        "*  print the key/value pairs of a dictionary as a list of tuples  \n",
        "\n",
        "*Hint:  iterate through colours.items()*"
      ]
    },
    {
      "cell_type": "code",
      "metadata": {
        "id": "EzuMkUypOKTY"
      },
      "source": [],
      "execution_count": null,
      "outputs": []
    },
    {
      "cell_type": "markdown",
      "metadata": {
        "id": "Jw1ot10cOc6r"
      },
      "source": [
        "---\n",
        "### Exercise 10 - check if empty\n",
        "Taken from w3resouce.com  \n",
        "\n",
        "Write a function which will check if a dictionary is empty or not\n",
        "\n",
        "*Hint:  you can use bool(dictionary_name), if the dictionary is empty then bool(dictionary_name will be false)*\n",
        "\n",
        "Test 1 sample data:\n",
        "{}\n",
        "\n",
        "Expected output:\n",
        "Dictionary is empty  \n",
        "\n",
        "Test 2 sample data:  \n",
        "{\"name\":\"Groucho\", \"occupation\":\"comedian\"}\n",
        "\n",
        "Expected output:  \n",
        "Dictionary is not empty"
      ]
    },
    {
      "cell_type": "code",
      "metadata": {
        "id": "7UdM1TfwRqnt"
      },
      "source": [],
      "execution_count": null,
      "outputs": []
    }
  ]
}